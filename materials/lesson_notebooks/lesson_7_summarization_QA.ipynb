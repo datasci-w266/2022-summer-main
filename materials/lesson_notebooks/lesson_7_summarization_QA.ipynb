{
 "cells": [
  {
   "cell_type": "markdown",
   "metadata": {
    "id": "tcH1I6BsI1CY"
   },
   "source": [
    "# Lesson notebook 7 - Summarization and Question Answering\n",
    "\n",
    "\n",
    "\n",
    "### 1. Extractive summarization example\n",
    "\n",
    "One of the challenges faced by current neural systems is the size of the input they can manage.  As a result most  of these systems end up truncating the inputOne solution to this is to use an older approach called extractive summarization.  In this approach the content of the input document(s) is broken into sentences which are scored for their relevance to either the document or to a query.  We'll demonstrate it's use on a wikipedia article.\n",
    "\n",
    "\n",
    "### 2. Summarization example\n",
    "\n",
    "We'll use T5 again to summarize some input text.  We do this because the text in -> text out interface as well as the multi-task fine tuning makes it a great vehicle for demonstration.\n",
    "\n",
    "\n",
    "### 3. Question answering example\n",
    "\n",
    "There are a variety of approaches to question answering.  Here we demonstrate one particular approach to the problem -- span detection -- where we feed a context paragraph and the question to the system and want the machine to identify the answer span within the context paragraph.\n",
    "\n",
    "\n",
    "\n",
    "[![Open In Colab](https://colab.research.google.com/assets/colab-badge.svg)](https://colab.research.google.com/github/datasci-w266/2022-summer-main/blob/master/materials/lesson_notebooks/lesson_7_summarization_QA.ipynb)\n",
    "\n"
   ]
  },
  {
   "cell_type": "markdown",
   "metadata": {},
   "source": [
    "Let's run our extractive summarization example.  We'll leverage an older version of gensim that has a built in extactive summarization module.  The module was contributed so it hasn't been update to 4.0 yet."
   ]
  },
  {
   "cell_type": "code",
   "execution_count": 1,
   "metadata": {
    "colab": {
     "base_uri": "https://localhost:8080/"
    },
    "id": "si0liygA0ToA",
    "outputId": "004ecfc3-b55c-4a16-c74f-6f57aaefe2dc"
   },
   "outputs": [
    {
     "name": "stdout",
     "output_type": "stream",
     "text": [
      "Looking in indexes: https://pypi.org/simple, https://us-python.pkg.dev/colab-wheels/public/simple/\n",
      "Collecting gensim==3.8.3\n",
      "  Downloading gensim-3.8.3-cp37-cp37m-manylinux1_x86_64.whl (24.2 MB)\n",
      "\u001b[K     |████████████████████████████████| 24.2 MB 2.5 MB/s \n",
      "\u001b[?25hRequirement already satisfied: numpy>=1.11.3 in /usr/local/lib/python3.7/dist-packages (from gensim==3.8.3) (1.21.6)\n",
      "Requirement already satisfied: scipy>=0.18.1 in /usr/local/lib/python3.7/dist-packages (from gensim==3.8.3) (1.4.1)\n",
      "Requirement already satisfied: smart-open>=1.8.1 in /usr/local/lib/python3.7/dist-packages (from gensim==3.8.3) (6.0.0)\n",
      "Requirement already satisfied: six>=1.5.0 in /usr/local/lib/python3.7/dist-packages (from gensim==3.8.3) (1.15.0)\n",
      "Installing collected packages: gensim\n",
      "  Attempting uninstall: gensim\n",
      "    Found existing installation: gensim 3.6.0\n",
      "    Uninstalling gensim-3.6.0:\n",
      "      Successfully uninstalled gensim-3.6.0\n",
      "Successfully installed gensim-3.8.3\n"
     ]
    }
   ],
   "source": [
    "!pip install gensim==3.8.3"
   ]
  },
  {
   "cell_type": "markdown",
   "metadata": {},
   "source": [
    "Now let's get a document to summarize.  We'll use Wikipedia since it contains a large number of longer documents."
   ]
  },
  {
   "cell_type": "code",
   "execution_count": 2,
   "metadata": {
    "colab": {
     "base_uri": "https://localhost:8080/"
    },
    "id": "JKbUf5Fq0Tf6",
    "outputId": "30950ce4-f34e-45f8-c224-8ca9ac3d1fca"
   },
   "outputs": [
    {
     "name": "stdout",
     "output_type": "stream",
     "text": [
      "Looking in indexes: https://pypi.org/simple, https://us-python.pkg.dev/colab-wheels/public/simple/\n",
      "Collecting wikipedia\n",
      "  Downloading wikipedia-1.4.0.tar.gz (27 kB)\n",
      "Requirement already satisfied: beautifulsoup4 in /usr/local/lib/python3.7/dist-packages (from wikipedia) (4.6.3)\n",
      "Requirement already satisfied: requests<3.0.0,>=2.0.0 in /usr/local/lib/python3.7/dist-packages (from wikipedia) (2.23.0)\n",
      "Requirement already satisfied: idna<3,>=2.5 in /usr/local/lib/python3.7/dist-packages (from requests<3.0.0,>=2.0.0->wikipedia) (2.10)\n",
      "Requirement already satisfied: urllib3!=1.25.0,!=1.25.1,<1.26,>=1.21.1 in /usr/local/lib/python3.7/dist-packages (from requests<3.0.0,>=2.0.0->wikipedia) (1.24.3)\n",
      "Requirement already satisfied: certifi>=2017.4.17 in /usr/local/lib/python3.7/dist-packages (from requests<3.0.0,>=2.0.0->wikipedia) (2022.5.18.1)\n",
      "Requirement already satisfied: chardet<4,>=3.0.2 in /usr/local/lib/python3.7/dist-packages (from requests<3.0.0,>=2.0.0->wikipedia) (3.0.4)\n",
      "Building wheels for collected packages: wikipedia\n",
      "  Building wheel for wikipedia (setup.py) ... \u001b[?25l\u001b[?25hdone\n",
      "  Created wheel for wikipedia: filename=wikipedia-1.4.0-py3-none-any.whl size=11695 sha256=79d3a2ecb3dcf3fa0433f8dc5de2c81736ed95402c53d98cfc5540aa75e899c2\n",
      "  Stored in directory: /root/.cache/pip/wheels/15/93/6d/5b2c68b8a64c7a7a04947b4ed6d89fb557dcc6bc27d1d7f3ba\n",
      "Successfully built wikipedia\n",
      "Installing collected packages: wikipedia\n",
      "Successfully installed wikipedia-1.4.0\n"
     ]
    }
   ],
   "source": [
    "!pip install wikipedia"
   ]
  },
  {
   "cell_type": "markdown",
   "metadata": {},
   "source": [
    "Let's set up our environment and grab the wikipedia page on Natural Language Processing.  You can modify the string to find the Wikipedia page of your choice."
   ]
  },
  {
   "cell_type": "code",
   "execution_count": 3,
   "metadata": {
    "id": "OHvwr7Qw0TXm"
   },
   "outputs": [],
   "source": [
    "from gensim.summarization.summarizer import summarize\n",
    "from gensim.summarization import keywords\n",
    "import wikipedia\n",
    "from pprint import pprint\n",
    "\n",
    " \n",
    "# Get wiki content.\n",
    "wikisearch = wikipedia.page(\"Natural Language Processing\")\n",
    "wikicontent = wikisearch.content"
   ]
  },
  {
   "cell_type": "markdown",
   "metadata": {},
   "source": [
    "The extractive summarization module allows to specify the size of the summary we want.  We can either do it as a percentage of the size of the input or by the number of words.  Let's first grab a small percentage of the original doc.  Under the hood the system is breaking the document into sentences and scoring those sentences by their relevance to the document.  This is typically done by comparing each sentence with a centroid sentence.  As a result the summary is a set of sentences.  They may be presented in score order or they may be presented in the order in which they appeared in the original document.  Why do you think that might matter?"
   ]
  },
  {
   "cell_type": "code",
   "execution_count": 4,
   "metadata": {
    "colab": {
     "base_uri": "https://localhost:8080/"
    },
    "id": "eQ2k7UQT0TPC",
    "outputId": "dc366a0c-7a4d-4fb8-cb79-c5c63cdcef4f"
   },
   "outputs": [
    {
     "name": "stdout",
     "output_type": "stream",
     "text": [
      "Percent summary\n",
      "(\"The premise of symbolic NLP is well-summarized by John Searle's Chinese room \"\n",
      " 'experiment: Given a collection of rules (e.g., a Chinese phrasebook, with '\n",
      " 'questions and matching answers), the computer emulates natural language '\n",
      " 'understanding (or other NLP tasks) by applying those rules to the data it '\n",
      " 'confronts.\\n'\n",
      " 'Focus areas of the time included research on rule-based parsing (e.g., the '\n",
      " 'development of HPSG as a computational operationalization of generative '\n",
      " 'grammar), morphology (e.g., two-level morphology), semantics (e.g., Lesk '\n",
      " 'algorithm), reference (e.g., within Centering Theory) and other areas of '\n",
      " 'natural language understanding (e.g., in the Rhetorical Structure Theory).\\n'\n",
      " 'Generally, this task is much more difficult than supervised learning, and '\n",
      " 'typically produces less accurate results for a given amount of input data.\\n'\n",
      " 'However, creating more data to input to machine-learning systems simply '\n",
      " 'requires a corresponding increase in the number of man-hours worked, '\n",
      " 'generally without significant increases in the complexity of the annotation '\n",
      " 'process.Despite the popularity of machine learning in NLP research, symbolic '\n",
      " 'methods are still (2020) commonly used:\\n'\n",
      " 'The machine-learning paradigm calls instead for using statistical inference '\n",
      " 'to automatically learn such rules through the analysis of large corpora (the '\n",
      " 'plural form of corpus, is a set of documents, possibly with human or '\n",
      " 'computer annotations) of typical real-world examples.\\n'\n",
      " 'Many different classes of machine-learning algorithms have been applied to '\n",
      " 'natural-language-processing tasks.\\n'\n",
      " 'Increasingly, however, research has focused on statistical models, which '\n",
      " 'make soft, probabilistic decisions based on attaching real-valued weights to '\n",
      " 'each input feature (complex-valued embeddings, and neural networks in '\n",
      " 'general have also been proposed, for e.g. speech).\\n'\n",
      " 'However, part-of-speech tagging introduced the use of hidden Markov models '\n",
      " 'to natural language processing, and increasingly, research has focused on '\n",
      " 'statistical models, which make soft, probabilistic decisions based on '\n",
      " 'attaching real-valued weights to the features making up the input data.\\n'\n",
      " 'Such models are generally more robust when given unfamiliar input, '\n",
      " 'especially input that contains errors (as is very common for real-world '\n",
      " 'data), and produce more reliable results when integrated into a larger '\n",
      " 'system comprising multiple subtasks.\\n'\n",
      " 'Popular techniques include the use of word embeddings to capture semantic '\n",
      " 'properties of words, and an increase in end-to-end learning of a '\n",
      " 'higher-level task (e.g., question answering) instead of relying on a '\n",
      " 'pipeline of separate intermediate tasks (e.g., part-of-speech tagging and '\n",
      " 'dependency parsing).\\n'\n",
      " 'In some areas, this shift has entailed substantial changes in how NLP '\n",
      " 'systems are designed, such that deep neural network-based approaches may be '\n",
      " 'viewed as a new paradigm distinct from statistical natural language '\n",
      " 'processing.\\n'\n",
      " 'This challenge typically includes aspects of several more elementary NLP '\n",
      " 'tasks from semantics (e.g., semantic role labelling, word-sense '\n",
      " 'disambiguation) and can be extended to include full-fledged discourse '\n",
      " 'analysis (e.g., discourse analysis, coreference; see Natural language '\n",
      " 'understanding below).')\n"
     ]
    }
   ],
   "source": [
    "# Summary (5% of the original content).\n",
    "summ_per = summarize(wikicontent, ratio = 0.05)\n",
    "print(\"Percent summary\")\n",
    "pprint(summ_per, compact=True)"
   ]
  },
  {
   "cell_type": "markdown",
   "metadata": {},
   "source": [
    "Now let's summarize the content again but this time by specifying the size of the summary in words."
   ]
  },
  {
   "cell_type": "code",
   "execution_count": 5,
   "metadata": {
    "colab": {
     "base_uri": "https://localhost:8080/"
    },
    "id": "h5nc6Qoe0TFK",
    "outputId": "841037c8-8c3d-4234-deec-a920afb44c0b"
   },
   "outputs": [
    {
     "name": "stdout",
     "output_type": "stream",
     "text": [
      "Word count summary\n",
      "(\"The premise of symbolic NLP is well-summarized by John Searle's Chinese room \"\n",
      " 'experiment: Given a collection of rules (e.g., a Chinese phrasebook, with '\n",
      " 'questions and matching answers), the computer emulates natural language '\n",
      " 'understanding (or other NLP tasks) by applying those rules to the data it '\n",
      " 'confronts.\\n'\n",
      " 'Focus areas of the time included research on rule-based parsing (e.g., the '\n",
      " 'development of HPSG as a computational operationalization of generative '\n",
      " 'grammar), morphology (e.g., two-level morphology), semantics (e.g., Lesk '\n",
      " 'algorithm), reference (e.g., within Centering Theory) and other areas of '\n",
      " 'natural language understanding (e.g., in the Rhetorical Structure Theory).\\n'\n",
      " 'However, creating more data to input to machine-learning systems simply '\n",
      " 'requires a corresponding increase in the number of man-hours worked, '\n",
      " 'generally without significant increases in the complexity of the annotation '\n",
      " 'process.Despite the popularity of machine learning in NLP research, symbolic '\n",
      " 'methods are still (2020) commonly used:\\n'\n",
      " 'The machine-learning paradigm calls instead for using statistical inference '\n",
      " 'to automatically learn such rules through the analysis of large corpora (the '\n",
      " 'plural form of corpus, is a set of documents, possibly with human or '\n",
      " 'computer annotations) of typical real-world examples.\\n'\n",
      " 'However, part-of-speech tagging introduced the use of hidden Markov models '\n",
      " 'to natural language processing, and increasingly, research has focused on '\n",
      " 'statistical models, which make soft, probabilistic decisions based on '\n",
      " 'attaching real-valued weights to the features making up the input data.')\n"
     ]
    }
   ],
   "source": [
    "# Summary (200 words)\n",
    "summ_words = summarize(wikicontent, word_count = 200)\n",
    "print(\"Word count summary\")\n",
    "pprint(summ_words, compact=True)"
   ]
  },
  {
   "cell_type": "markdown",
   "metadata": {},
   "source": [
    "The genism module can also summarize by keyword rather than sentence."
   ]
  },
  {
   "cell_type": "code",
   "execution_count": 6,
   "metadata": {
    "colab": {
     "base_uri": "https://localhost:8080/"
    },
    "id": "s8AAbLb50SoM",
    "outputId": "93f6ab36-b3b1-4432-b6f7-31f943a31575"
   },
   "outputs": [
    {
     "name": "stdout",
     "output_type": "stream",
     "text": [
      "language\n",
      "languages\n",
      "words\n",
      "word\n",
      "semantics\n",
      "semantic\n",
      "nlp\n",
      "text\n",
      "generation\n",
      "generic\n",
      "generative\n",
      "generally\n",
      "generated\n",
      "general\n",
      "generate\n"
     ]
    }
   ],
   "source": [
    "from gensim.summarization import keywords\n",
    "print(keywords(wikicontent, ratio=0.01))"
   ]
  },
  {
   "cell_type": "markdown",
   "metadata": {
    "id": "C-uhdR0oz_ge"
   },
   "source": [
    "### Abstractive summarization with T5\n",
    "\n",
    "Let's set up our environment to run the Hugging Face version of T5 and feed it a small snippet of text to see what kind of summary it produces.  Note that we could not feed the entire Wikipedia article we used above into T5."
   ]
  },
  {
   "cell_type": "code",
   "execution_count": 7,
   "metadata": {
    "colab": {
     "base_uri": "https://localhost:8080/"
    },
    "id": "exfcgk9f0VZt",
    "outputId": "20a31b2d-1b85-4bad-dad8-0bb287da87dd"
   },
   "outputs": [
    {
     "name": "stdout",
     "output_type": "stream",
     "text": [
      "\u001b[?25l\r",
      "\u001b[K     |▎                               | 10 kB 30.5 MB/s eta 0:00:01\r",
      "\u001b[K     |▌                               | 20 kB 34.8 MB/s eta 0:00:01\r",
      "\u001b[K     |▉                               | 30 kB 41.6 MB/s eta 0:00:01\r",
      "\u001b[K     |█                               | 40 kB 32.2 MB/s eta 0:00:01\r",
      "\u001b[K     |█▍                              | 51 kB 23.7 MB/s eta 0:00:01\r",
      "\u001b[K     |█▋                              | 61 kB 26.3 MB/s eta 0:00:01\r",
      "\u001b[K     |██                              | 71 kB 27.2 MB/s eta 0:00:01\r",
      "\u001b[K     |██▏                             | 81 kB 28.3 MB/s eta 0:00:01\r",
      "\u001b[K     |██▍                             | 92 kB 29.9 MB/s eta 0:00:01\r",
      "\u001b[K     |██▊                             | 102 kB 31.6 MB/s eta 0:00:01\r",
      "\u001b[K     |███                             | 112 kB 31.6 MB/s eta 0:00:01\r",
      "\u001b[K     |███▎                            | 122 kB 31.6 MB/s eta 0:00:01\r",
      "\u001b[K     |███▌                            | 133 kB 31.6 MB/s eta 0:00:01\r",
      "\u001b[K     |███▉                            | 143 kB 31.6 MB/s eta 0:00:01\r",
      "\u001b[K     |████                            | 153 kB 31.6 MB/s eta 0:00:01\r",
      "\u001b[K     |████▎                           | 163 kB 31.6 MB/s eta 0:00:01\r",
      "\u001b[K     |████▋                           | 174 kB 31.6 MB/s eta 0:00:01\r",
      "\u001b[K     |████▉                           | 184 kB 31.6 MB/s eta 0:00:01\r",
      "\u001b[K     |█████▏                          | 194 kB 31.6 MB/s eta 0:00:01\r",
      "\u001b[K     |█████▍                          | 204 kB 31.6 MB/s eta 0:00:01\r",
      "\u001b[K     |█████▊                          | 215 kB 31.6 MB/s eta 0:00:01\r",
      "\u001b[K     |██████                          | 225 kB 31.6 MB/s eta 0:00:01\r",
      "\u001b[K     |██████▏                         | 235 kB 31.6 MB/s eta 0:00:01\r",
      "\u001b[K     |██████▌                         | 245 kB 31.6 MB/s eta 0:00:01\r",
      "\u001b[K     |██████▊                         | 256 kB 31.6 MB/s eta 0:00:01\r",
      "\u001b[K     |███████                         | 266 kB 31.6 MB/s eta 0:00:01\r",
      "\u001b[K     |███████▎                        | 276 kB 31.6 MB/s eta 0:00:01\r",
      "\u001b[K     |███████▋                        | 286 kB 31.6 MB/s eta 0:00:01\r",
      "\u001b[K     |███████▉                        | 296 kB 31.6 MB/s eta 0:00:01\r",
      "\u001b[K     |████████                        | 307 kB 31.6 MB/s eta 0:00:01\r",
      "\u001b[K     |████████▍                       | 317 kB 31.6 MB/s eta 0:00:01\r",
      "\u001b[K     |████████▋                       | 327 kB 31.6 MB/s eta 0:00:01\r",
      "\u001b[K     |█████████                       | 337 kB 31.6 MB/s eta 0:00:01\r",
      "\u001b[K     |█████████▏                      | 348 kB 31.6 MB/s eta 0:00:01\r",
      "\u001b[K     |█████████▌                      | 358 kB 31.6 MB/s eta 0:00:01\r",
      "\u001b[K     |█████████▊                      | 368 kB 31.6 MB/s eta 0:00:01\r",
      "\u001b[K     |██████████                      | 378 kB 31.6 MB/s eta 0:00:01\r",
      "\u001b[K     |██████████▎                     | 389 kB 31.6 MB/s eta 0:00:01\r",
      "\u001b[K     |██████████▌                     | 399 kB 31.6 MB/s eta 0:00:01\r",
      "\u001b[K     |██████████▉                     | 409 kB 31.6 MB/s eta 0:00:01\r",
      "\u001b[K     |███████████                     | 419 kB 31.6 MB/s eta 0:00:01\r",
      "\u001b[K     |███████████▍                    | 430 kB 31.6 MB/s eta 0:00:01\r",
      "\u001b[K     |███████████▋                    | 440 kB 31.6 MB/s eta 0:00:01\r",
      "\u001b[K     |███████████▉                    | 450 kB 31.6 MB/s eta 0:00:01\r",
      "\u001b[K     |████████████▏                   | 460 kB 31.6 MB/s eta 0:00:01\r",
      "\u001b[K     |████████████▍                   | 471 kB 31.6 MB/s eta 0:00:01\r",
      "\u001b[K     |████████████▊                   | 481 kB 31.6 MB/s eta 0:00:01\r",
      "\u001b[K     |█████████████                   | 491 kB 31.6 MB/s eta 0:00:01\r",
      "\u001b[K     |█████████████▎                  | 501 kB 31.6 MB/s eta 0:00:01\r",
      "\u001b[K     |█████████████▌                  | 512 kB 31.6 MB/s eta 0:00:01\r",
      "\u001b[K     |█████████████▊                  | 522 kB 31.6 MB/s eta 0:00:01\r",
      "\u001b[K     |██████████████                  | 532 kB 31.6 MB/s eta 0:00:01\r",
      "\u001b[K     |██████████████▎                 | 542 kB 31.6 MB/s eta 0:00:01\r",
      "\u001b[K     |██████████████▋                 | 552 kB 31.6 MB/s eta 0:00:01\r",
      "\u001b[K     |██████████████▉                 | 563 kB 31.6 MB/s eta 0:00:01\r",
      "\u001b[K     |███████████████▏                | 573 kB 31.6 MB/s eta 0:00:01\r",
      "\u001b[K     |███████████████▍                | 583 kB 31.6 MB/s eta 0:00:01\r",
      "\u001b[K     |███████████████▋                | 593 kB 31.6 MB/s eta 0:00:01\r",
      "\u001b[K     |████████████████                | 604 kB 31.6 MB/s eta 0:00:01\r",
      "\u001b[K     |████████████████▏               | 614 kB 31.6 MB/s eta 0:00:01\r",
      "\u001b[K     |████████████████▌               | 624 kB 31.6 MB/s eta 0:00:01\r",
      "\u001b[K     |████████████████▊               | 634 kB 31.6 MB/s eta 0:00:01\r",
      "\u001b[K     |█████████████████               | 645 kB 31.6 MB/s eta 0:00:01\r",
      "\u001b[K     |█████████████████▎              | 655 kB 31.6 MB/s eta 0:00:01\r",
      "\u001b[K     |█████████████████▌              | 665 kB 31.6 MB/s eta 0:00:01\r",
      "\u001b[K     |█████████████████▉              | 675 kB 31.6 MB/s eta 0:00:01\r",
      "\u001b[K     |██████████████████              | 686 kB 31.6 MB/s eta 0:00:01\r",
      "\u001b[K     |██████████████████▍             | 696 kB 31.6 MB/s eta 0:00:01\r",
      "\u001b[K     |██████████████████▋             | 706 kB 31.6 MB/s eta 0:00:01\r",
      "\u001b[K     |███████████████████             | 716 kB 31.6 MB/s eta 0:00:01\r",
      "\u001b[K     |███████████████████▏            | 727 kB 31.6 MB/s eta 0:00:01\r",
      "\u001b[K     |███████████████████▍            | 737 kB 31.6 MB/s eta 0:00:01\r",
      "\u001b[K     |███████████████████▊            | 747 kB 31.6 MB/s eta 0:00:01\r",
      "\u001b[K     |████████████████████            | 757 kB 31.6 MB/s eta 0:00:01\r",
      "\u001b[K     |████████████████████▎           | 768 kB 31.6 MB/s eta 0:00:01\r",
      "\u001b[K     |████████████████████▌           | 778 kB 31.6 MB/s eta 0:00:01\r",
      "\u001b[K     |████████████████████▉           | 788 kB 31.6 MB/s eta 0:00:01\r",
      "\u001b[K     |█████████████████████           | 798 kB 31.6 MB/s eta 0:00:01\r",
      "\u001b[K     |█████████████████████▎          | 808 kB 31.6 MB/s eta 0:00:01\r",
      "\u001b[K     |█████████████████████▋          | 819 kB 31.6 MB/s eta 0:00:01\r",
      "\u001b[K     |█████████████████████▉          | 829 kB 31.6 MB/s eta 0:00:01\r",
      "\u001b[K     |██████████████████████▏         | 839 kB 31.6 MB/s eta 0:00:01\r",
      "\u001b[K     |██████████████████████▍         | 849 kB 31.6 MB/s eta 0:00:01\r",
      "\u001b[K     |██████████████████████▊         | 860 kB 31.6 MB/s eta 0:00:01\r",
      "\u001b[K     |███████████████████████         | 870 kB 31.6 MB/s eta 0:00:01\r",
      "\u001b[K     |███████████████████████▏        | 880 kB 31.6 MB/s eta 0:00:01\r",
      "\u001b[K     |███████████████████████▌        | 890 kB 31.6 MB/s eta 0:00:01\r",
      "\u001b[K     |███████████████████████▊        | 901 kB 31.6 MB/s eta 0:00:01\r",
      "\u001b[K     |████████████████████████        | 911 kB 31.6 MB/s eta 0:00:01\r",
      "\u001b[K     |████████████████████████▎       | 921 kB 31.6 MB/s eta 0:00:01\r",
      "\u001b[K     |████████████████████████▋       | 931 kB 31.6 MB/s eta 0:00:01\r",
      "\u001b[K     |████████████████████████▉       | 942 kB 31.6 MB/s eta 0:00:01\r",
      "\u001b[K     |█████████████████████████       | 952 kB 31.6 MB/s eta 0:00:01\r",
      "\u001b[K     |█████████████████████████▍      | 962 kB 31.6 MB/s eta 0:00:01\r",
      "\u001b[K     |█████████████████████████▋      | 972 kB 31.6 MB/s eta 0:00:01\r",
      "\u001b[K     |██████████████████████████      | 983 kB 31.6 MB/s eta 0:00:01\r",
      "\u001b[K     |██████████████████████████▏     | 993 kB 31.6 MB/s eta 0:00:01\r",
      "\u001b[K     |██████████████████████████▌     | 1.0 MB 31.6 MB/s eta 0:00:01\r",
      "\u001b[K     |██████████████████████████▊     | 1.0 MB 31.6 MB/s eta 0:00:01\r",
      "\u001b[K     |███████████████████████████     | 1.0 MB 31.6 MB/s eta 0:00:01\r",
      "\u001b[K     |███████████████████████████▎    | 1.0 MB 31.6 MB/s eta 0:00:01\r",
      "\u001b[K     |███████████████████████████▌    | 1.0 MB 31.6 MB/s eta 0:00:01\r",
      "\u001b[K     |███████████████████████████▉    | 1.1 MB 31.6 MB/s eta 0:00:01\r",
      "\u001b[K     |████████████████████████████    | 1.1 MB 31.6 MB/s eta 0:00:01\r",
      "\u001b[K     |████████████████████████████▍   | 1.1 MB 31.6 MB/s eta 0:00:01\r",
      "\u001b[K     |████████████████████████████▋   | 1.1 MB 31.6 MB/s eta 0:00:01\r",
      "\u001b[K     |████████████████████████████▉   | 1.1 MB 31.6 MB/s eta 0:00:01\r",
      "\u001b[K     |█████████████████████████████▏  | 1.1 MB 31.6 MB/s eta 0:00:01\r",
      "\u001b[K     |█████████████████████████████▍  | 1.1 MB 31.6 MB/s eta 0:00:01\r",
      "\u001b[K     |█████████████████████████████▊  | 1.1 MB 31.6 MB/s eta 0:00:01\r",
      "\u001b[K     |██████████████████████████████  | 1.1 MB 31.6 MB/s eta 0:00:01\r",
      "\u001b[K     |██████████████████████████████▎ | 1.1 MB 31.6 MB/s eta 0:00:01\r",
      "\u001b[K     |██████████████████████████████▌ | 1.2 MB 31.6 MB/s eta 0:00:01\r",
      "\u001b[K     |██████████████████████████████▊ | 1.2 MB 31.6 MB/s eta 0:00:01\r",
      "\u001b[K     |███████████████████████████████ | 1.2 MB 31.6 MB/s eta 0:00:01\r",
      "\u001b[K     |███████████████████████████████▎| 1.2 MB 31.6 MB/s eta 0:00:01\r",
      "\u001b[K     |███████████████████████████████▋| 1.2 MB 31.6 MB/s eta 0:00:01\r",
      "\u001b[K     |███████████████████████████████▉| 1.2 MB 31.6 MB/s eta 0:00:01\r",
      "\u001b[K     |████████████████████████████████| 1.2 MB 31.6 MB/s \n",
      "\u001b[?25h"
     ]
    }
   ],
   "source": [
    "!pip install -q sentencepiece"
   ]
  },
  {
   "cell_type": "code",
   "execution_count": 8,
   "metadata": {
    "colab": {
     "base_uri": "https://localhost:8080/"
    },
    "id": "IFnIwhPA0VV5",
    "outputId": "cb61ceed-95e7-4836-bac9-9093a79679c1"
   },
   "outputs": [
    {
     "name": "stdout",
     "output_type": "stream",
     "text": [
      "\u001b[K     |████████████████████████████████| 4.2 MB 17.5 MB/s \n",
      "\u001b[K     |████████████████████████████████| 6.6 MB 49.2 MB/s \n",
      "\u001b[K     |████████████████████████████████| 596 kB 26.5 MB/s \n",
      "\u001b[K     |████████████████████████████████| 86 kB 2.9 MB/s \n",
      "\u001b[?25h"
     ]
    }
   ],
   "source": [
    "!pip install -q transformers"
   ]
  },
  {
   "cell_type": "code",
   "execution_count": 9,
   "metadata": {
    "id": "a5T3hjU60VRe"
   },
   "outputs": [],
   "source": [
    "import tensorflow as tf"
   ]
  },
  {
   "cell_type": "code",
   "execution_count": 10,
   "metadata": {
    "id": "qMUH5Xsj0VLN"
   },
   "outputs": [],
   "source": [
    "from transformers import T5Tokenizer, TFT5Model, TFT5ForConditionalGeneration"
   ]
  },
  {
   "cell_type": "markdown",
   "metadata": {},
   "source": [
    "Here's the text that we'll summarize."
   ]
  },
  {
   "cell_type": "code",
   "execution_count": 11,
   "metadata": {
    "id": "y7N0FrSK0VAj"
   },
   "outputs": [],
   "source": [
    "WARTICLE_TO_SUMMARIZE = (\"A neutron star is the collapsed core of a massive supergiant star, which had a total mass of \\\n",
    "            between 10 and 25 solar masses, possibly more if the star was especially metal-rich. Except for black holes, \\\n",
    "            and some hypothetical objects (e.g. white holes, quark stars, and strange stars), neutron stars are the smallest \\\n",
    "            and densest currently known class of stellar objects.\")"
   ]
  },
  {
   "cell_type": "code",
   "execution_count": 12,
   "metadata": {
    "colab": {
     "base_uri": "https://localhost:8080/",
     "height": 567,
     "referenced_widgets": [
      "f63f1901fa604e8fbc8fce845ecf96dd",
      "c712a4f58a8f44ffb805e55bdfed7458",
      "fdff67d2df2d4204952b3c922f861e01",
      "f0370d4132064bf4b1b7602363cab011",
      "9a331f77012b4aa9913658071e8d4ce2",
      "b66a59f47ca6458cbde99938d2545d8f",
      "0546c966f7994e4da223bcf3ebee914b",
      "1b184df5738444b696f672481f23804c",
      "54b647277c6d49b099cb0126b04cdf93",
      "bdf6c45c9b8744f091e1329ea04dae9c",
      "b9cfb41864154d76a0cc31bc3c84588f",
      "8ed05ba2664c4704a2229068862be268",
      "e3755dff0b174653b6ac8dddbe0ad2a4",
      "0e209de84af14971ad7fdb935c7cfece",
      "3c86801aa78e432da615688a6058da10",
      "4e095d2e9216400c948c5c4d698345b5",
      "4309407da5354be9ba0b6b7ea6bd668b",
      "923ef29e78e846e583fc66f7a13313da",
      "5bf29fa7a9bc4ca49a12e73a27de9fa8",
      "cec6bc24bbab438292b7c2f68fe62b8b",
      "fcb386ec12964a2083fb7289f88646e7",
      "513fa566f4944c32a932d7a5275fef7c",
      "531d10eecda942d586956aac0eafa4fb",
      "b7927fb0362a49a0b8dfc551fc1e309a",
      "dfd6ad45e4c84a138927d0075e8ed2d5",
      "554278667aca4a4cac201928b954588b",
      "9dbe62f64d4b44f6a6e9dc2e537aa66f",
      "76c91d35fd114335804e44bc67643379",
      "904f5cc0709e49a38920ad9b79eb5acd",
      "a208f9deb7384198a2042d8b20eb2f64",
      "76f401c90def42a6a120829e11a32d4f",
      "4efc8710b92f40cc8f1dd39cb26a9b7c",
      "b3c7b4472f1d4aaa9495c3f21b393175"
     ]
    },
    "id": "Sf5QPJGm0U2a",
    "outputId": "50840717-4c9a-4d4e-edbe-4c84a2a55b67"
   },
   "outputs": [
    {
     "data": {
      "application/vnd.jupyter.widget-view+json": {
       "model_id": "f63f1901fa604e8fbc8fce845ecf96dd",
       "version_major": 2,
       "version_minor": 0
      },
      "text/plain": [
       "Downloading:   0%|          | 0.00/1.17k [00:00<?, ?B/s]"
      ]
     },
     "metadata": {},
     "output_type": "display_data"
    },
    {
     "data": {
      "application/vnd.jupyter.widget-view+json": {
       "model_id": "8ed05ba2664c4704a2229068862be268",
       "version_major": 2,
       "version_minor": 0
      },
      "text/plain": [
       "Downloading:   0%|          | 0.00/851M [00:00<?, ?B/s]"
      ]
     },
     "metadata": {},
     "output_type": "display_data"
    },
    {
     "name": "stderr",
     "output_type": "stream",
     "text": [
      "All model checkpoint layers were used when initializing TFT5ForConditionalGeneration.\n",
      "\n",
      "All the layers of TFT5ForConditionalGeneration were initialized from the model checkpoint at t5-base.\n",
      "If your task is similar to the task the model of the checkpoint was trained on, you can already use TFT5ForConditionalGeneration for predictions without further training.\n"
     ]
    },
    {
     "data": {
      "application/vnd.jupyter.widget-view+json": {
       "model_id": "531d10eecda942d586956aac0eafa4fb",
       "version_major": 2,
       "version_minor": 0
      },
      "text/plain": [
       "Downloading:   0%|          | 0.00/773k [00:00<?, ?B/s]"
      ]
     },
     "metadata": {},
     "output_type": "display_data"
    },
    {
     "name": "stdout",
     "output_type": "stream",
     "text": [
      "Model: \"tft5_for_conditional_generation\"\n",
      "_________________________________________________________________\n",
      " Layer (type)                Output Shape              Param #   \n",
      "=================================================================\n",
      " shared (TFSharedEmbeddings)  multiple                 24674304  \n",
      "                                                                 \n",
      " encoder (TFT5MainLayer)     multiple                  84954240  \n",
      "                                                                 \n",
      " decoder (TFT5MainLayer)     multiple                  113275008 \n",
      "                                                                 \n",
      "=================================================================\n",
      "Total params: 222,903,552\n",
      "Trainable params: 222,903,552\n",
      "Non-trainable params: 0\n",
      "_________________________________________________________________\n"
     ]
    },
    {
     "name": "stderr",
     "output_type": "stream",
     "text": [
      "/usr/local/lib/python3.7/dist-packages/transformers/models/t5/tokenization_t5.py:169: FutureWarning: This tokenizer was incorrectly instantiated with a model max length of 512 which will be corrected in Transformers v5.\n",
      "For now, this behavior is kept to avoid breaking backwards compatibility when padding/encoding with `truncation is True`.\n",
      "- Be aware that you SHOULD NOT rely on t5-base automatically truncating your input to 512 when padding/encoding.\n",
      "- If you want to encode/pad to sequences longer than 512 you can either instantiate this tokenizer with `model_max_length` or pass `max_length` when encoding/padding.\n",
      "- To avoid this warning, please instantiate this tokenizer with `model_max_length` set to your preferred value.\n",
      "  FutureWarning,\n"
     ]
    }
   ],
   "source": [
    "t5_model = TFT5ForConditionalGeneration.from_pretrained('t5-base') #also t5-small and t5-large\n",
    "t5_tokenizer = T5Tokenizer.from_pretrained('t5-base')\n",
    "\n",
    "t5_model.summary()"
   ]
  },
  {
   "cell_type": "markdown",
   "metadata": {},
   "source": [
    "Don't forget to add the prompt to the begining of the article so T5 knows what we are asking it to do."
   ]
  },
  {
   "cell_type": "code",
   "execution_count": 13,
   "metadata": {
    "id": "jWdPetvc3tm_"
   },
   "outputs": [],
   "source": [
    "t5_input_text = \"summarize: \" + WARTICLE_TO_SUMMARIZE"
   ]
  },
  {
   "cell_type": "code",
   "execution_count": 14,
   "metadata": {
    "id": "839JTWPX3tbp"
   },
   "outputs": [],
   "source": [
    "t5_inputs = t5_tokenizer([t5_input_text], return_tensors='tf')"
   ]
  },
  {
   "cell_type": "markdown",
   "metadata": {},
   "source": [
    "Here's the output.  The sentence is quite fluid.  How faithful to you think it is?"
   ]
  },
  {
   "cell_type": "code",
   "execution_count": 15,
   "metadata": {
    "colab": {
     "base_uri": "https://localhost:8080/"
    },
    "id": "xirurxbm3tMc",
    "outputId": "fdb647c9-2c65-4c1b-c0f7-7a432cfebda2"
   },
   "outputs": [
    {
     "name": "stdout",
     "output_type": "stream",
     "text": [
      "['neutron stars are the smallest and densest currently known class of stellar objects, says alexander miller.']\n"
     ]
    }
   ],
   "source": [
    "t5_summary_ids = t5_model.generate(t5_inputs['input_ids'],\n",
    "                                    num_beams=3,\n",
    "                                    no_repeat_ngram_size=1,\n",
    "                                    min_length=15,\n",
    "                                    max_length=35)\n",
    "                             \n",
    "print([t5_tokenizer.decode(g, skip_special_tokens=True, \n",
    "                           clean_up_tokenization_spaces=False) for g in t5_summary_ids])"
   ]
  },
  {
   "cell_type": "markdown",
   "metadata": {
    "id": "gJ_mCsHo0GrS"
   },
   "source": [
    "## Extractive question answering with T5\n",
    "\n",
    "Now let's look at an extractive question answering example.  We'll need to feed the model a context paragraph and a question.  The T5 model was pre-trained on the SQUAD dataset so it knows how to identify and extract the answer span. Note that we already have the prompt in the respective texts."
   ]
  },
  {
   "cell_type": "code",
   "execution_count": 17,
   "metadata": {
    "id": "xE5ANINx0XM6"
   },
   "outputs": [],
   "source": [
    "t5_context_text = \"\"\"context: Hyperbaric (high-pressure) medicine uses special oxygen\n",
    "chambers to increase the partial pressure of O 2 around the patient and, when needed,\n",
    "the medical staff. Carbon monoxide poisoning, gas gangrene, and decompression sickness\n",
    "(the ’bends’) are sometimes treated using these devices. Increased O 2 concentration\n",
    "in the lungs helps to displace carbon monoxide from the heme group of hemoglobin.\n",
    "Oxygen gas is poisonous to the anaerobic bacteria that cause gas gangrene, so increasing\n",
    "its partial pressure helps kill them. Decompression sickness occurs in divers who\n",
    "decompress too quickly after a dive, resulting in bubbles of inert gas, mostly nitrogen\n",
    "and helium, forming in their blood. Increasing the pressure of O 2 as soon as possible\n",
    "is part of the treatment.\"\"\""
   ]
  },
  {
   "cell_type": "code",
   "execution_count": 16,
   "metadata": {
    "id": "dUkH1xrl0XQE"
   },
   "outputs": [],
   "source": [
    "t5_question_text = \"\"\"question: What does increased oxygen concentrations in the patient’s\n",
    "lungs displace? \"\"\""
   ]
  },
  {
   "cell_type": "code",
   "execution_count": 18,
   "metadata": {
    "id": "d7KSOnfm0XJO"
   },
   "outputs": [],
   "source": [
    "t5_qa_input_text = t5_question_text + t5_context_text"
   ]
  },
  {
   "cell_type": "markdown",
   "metadata": {},
   "source": [
    "Now let's run T5 and see how well it answers our question.  What do you think?"
   ]
  },
  {
   "cell_type": "code",
   "execution_count": 19,
   "metadata": {
    "colab": {
     "base_uri": "https://localhost:8080/"
    },
    "id": "X8XW3u6T0XGB",
    "outputId": "c0536c66-b07c-4eac-a5da-891daef07bda"
   },
   "outputs": [
    {
     "name": "stdout",
     "output_type": "stream",
     "text": [
      "['carbon monoxide']\n"
     ]
    }
   ],
   "source": [
    "t5_inputs = t5_tokenizer([t5_qa_input_text], return_tensors='tf')\n",
    "\n",
    "t5_summary_ids = t5_model.generate(t5_inputs['input_ids'])\n",
    "                             \n",
    "print([t5_tokenizer.decode(g, skip_special_tokens=True, \n",
    "                           clean_up_tokenization_spaces=False) for g in t5_summary_ids])"
   ]
  },
  {
   "cell_type": "code",
   "execution_count": null,
   "metadata": {
    "id": "0mJHAEFKItLM"
   },
   "outputs": [],
   "source": []
  }
 ],
 "metadata": {
  "colab": {
   "name": "lesson_7_summarization_QA.ipynb",
   "provenance": []
  },
  "kernelspec": {
   "display_name": "Python 3",
   "language": "python",
   "name": "python3"
  },
  "language_info": {
   "codemirror_mode": {
    "name": "ipython",
    "version": 3
   },
   "file_extension": ".py",
   "mimetype": "text/x-python",
   "name": "python",
   "nbconvert_exporter": "python",
   "pygments_lexer": "ipython3",
   "version": "3.8.5"
  },
  "widgets": {
   "application/vnd.jupyter.widget-state+json": {
    "0546c966f7994e4da223bcf3ebee914b": {
     "model_module": "@jupyter-widgets/controls",
     "model_module_version": "1.5.0",
     "model_name": "DescriptionStyleModel",
     "state": {
      "_model_module": "@jupyter-widgets/controls",
      "_model_module_version": "1.5.0",
      "_model_name": "DescriptionStyleModel",
      "_view_count": null,
      "_view_module": "@jupyter-widgets/base",
      "_view_module_version": "1.2.0",
      "_view_name": "StyleView",
      "description_width": ""
     }
    },
    "0e209de84af14971ad7fdb935c7cfece": {
     "model_module": "@jupyter-widgets/controls",
     "model_module_version": "1.5.0",
     "model_name": "FloatProgressModel",
     "state": {
      "_dom_classes": [],
      "_model_module": "@jupyter-widgets/controls",
      "_model_module_version": "1.5.0",
      "_model_name": "FloatProgressModel",
      "_view_count": null,
      "_view_module": "@jupyter-widgets/controls",
      "_view_module_version": "1.5.0",
      "_view_name": "ProgressView",
      "bar_style": "success",
      "description": "",
      "description_tooltip": null,
      "layout": "IPY_MODEL_5bf29fa7a9bc4ca49a12e73a27de9fa8",
      "max": 892146080,
      "min": 0,
      "orientation": "horizontal",
      "style": "IPY_MODEL_cec6bc24bbab438292b7c2f68fe62b8b",
      "value": 892146080
     }
    },
    "1b184df5738444b696f672481f23804c": {
     "model_module": "@jupyter-widgets/base",
     "model_module_version": "1.2.0",
     "model_name": "LayoutModel",
     "state": {
      "_model_module": "@jupyter-widgets/base",
      "_model_module_version": "1.2.0",
      "_model_name": "LayoutModel",
      "_view_count": null,
      "_view_module": "@jupyter-widgets/base",
      "_view_module_version": "1.2.0",
      "_view_name": "LayoutView",
      "align_content": null,
      "align_items": null,
      "align_self": null,
      "border": null,
      "bottom": null,
      "display": null,
      "flex": null,
      "flex_flow": null,
      "grid_area": null,
      "grid_auto_columns": null,
      "grid_auto_flow": null,
      "grid_auto_rows": null,
      "grid_column": null,
      "grid_gap": null,
      "grid_row": null,
      "grid_template_areas": null,
      "grid_template_columns": null,
      "grid_template_rows": null,
      "height": null,
      "justify_content": null,
      "justify_items": null,
      "left": null,
      "margin": null,
      "max_height": null,
      "max_width": null,
      "min_height": null,
      "min_width": null,
      "object_fit": null,
      "object_position": null,
      "order": null,
      "overflow": null,
      "overflow_x": null,
      "overflow_y": null,
      "padding": null,
      "right": null,
      "top": null,
      "visibility": null,
      "width": null
     }
    },
    "3c86801aa78e432da615688a6058da10": {
     "model_module": "@jupyter-widgets/controls",
     "model_module_version": "1.5.0",
     "model_name": "HTMLModel",
     "state": {
      "_dom_classes": [],
      "_model_module": "@jupyter-widgets/controls",
      "_model_module_version": "1.5.0",
      "_model_name": "HTMLModel",
      "_view_count": null,
      "_view_module": "@jupyter-widgets/controls",
      "_view_module_version": "1.5.0",
      "_view_name": "HTMLView",
      "description": "",
      "description_tooltip": null,
      "layout": "IPY_MODEL_fcb386ec12964a2083fb7289f88646e7",
      "placeholder": "​",
      "style": "IPY_MODEL_513fa566f4944c32a932d7a5275fef7c",
      "value": " 851M/851M [00:22&lt;00:00, 41.4MB/s]"
     }
    },
    "4309407da5354be9ba0b6b7ea6bd668b": {
     "model_module": "@jupyter-widgets/base",
     "model_module_version": "1.2.0",
     "model_name": "LayoutModel",
     "state": {
      "_model_module": "@jupyter-widgets/base",
      "_model_module_version": "1.2.0",
      "_model_name": "LayoutModel",
      "_view_count": null,
      "_view_module": "@jupyter-widgets/base",
      "_view_module_version": "1.2.0",
      "_view_name": "LayoutView",
      "align_content": null,
      "align_items": null,
      "align_self": null,
      "border": null,
      "bottom": null,
      "display": null,
      "flex": null,
      "flex_flow": null,
      "grid_area": null,
      "grid_auto_columns": null,
      "grid_auto_flow": null,
      "grid_auto_rows": null,
      "grid_column": null,
      "grid_gap": null,
      "grid_row": null,
      "grid_template_areas": null,
      "grid_template_columns": null,
      "grid_template_rows": null,
      "height": null,
      "justify_content": null,
      "justify_items": null,
      "left": null,
      "margin": null,
      "max_height": null,
      "max_width": null,
      "min_height": null,
      "min_width": null,
      "object_fit": null,
      "object_position": null,
      "order": null,
      "overflow": null,
      "overflow_x": null,
      "overflow_y": null,
      "padding": null,
      "right": null,
      "top": null,
      "visibility": null,
      "width": null
     }
    },
    "4e095d2e9216400c948c5c4d698345b5": {
     "model_module": "@jupyter-widgets/base",
     "model_module_version": "1.2.0",
     "model_name": "LayoutModel",
     "state": {
      "_model_module": "@jupyter-widgets/base",
      "_model_module_version": "1.2.0",
      "_model_name": "LayoutModel",
      "_view_count": null,
      "_view_module": "@jupyter-widgets/base",
      "_view_module_version": "1.2.0",
      "_view_name": "LayoutView",
      "align_content": null,
      "align_items": null,
      "align_self": null,
      "border": null,
      "bottom": null,
      "display": null,
      "flex": null,
      "flex_flow": null,
      "grid_area": null,
      "grid_auto_columns": null,
      "grid_auto_flow": null,
      "grid_auto_rows": null,
      "grid_column": null,
      "grid_gap": null,
      "grid_row": null,
      "grid_template_areas": null,
      "grid_template_columns": null,
      "grid_template_rows": null,
      "height": null,
      "justify_content": null,
      "justify_items": null,
      "left": null,
      "margin": null,
      "max_height": null,
      "max_width": null,
      "min_height": null,
      "min_width": null,
      "object_fit": null,
      "object_position": null,
      "order": null,
      "overflow": null,
      "overflow_x": null,
      "overflow_y": null,
      "padding": null,
      "right": null,
      "top": null,
      "visibility": null,
      "width": null
     }
    },
    "4efc8710b92f40cc8f1dd39cb26a9b7c": {
     "model_module": "@jupyter-widgets/base",
     "model_module_version": "1.2.0",
     "model_name": "LayoutModel",
     "state": {
      "_model_module": "@jupyter-widgets/base",
      "_model_module_version": "1.2.0",
      "_model_name": "LayoutModel",
      "_view_count": null,
      "_view_module": "@jupyter-widgets/base",
      "_view_module_version": "1.2.0",
      "_view_name": "LayoutView",
      "align_content": null,
      "align_items": null,
      "align_self": null,
      "border": null,
      "bottom": null,
      "display": null,
      "flex": null,
      "flex_flow": null,
      "grid_area": null,
      "grid_auto_columns": null,
      "grid_auto_flow": null,
      "grid_auto_rows": null,
      "grid_column": null,
      "grid_gap": null,
      "grid_row": null,
      "grid_template_areas": null,
      "grid_template_columns": null,
      "grid_template_rows": null,
      "height": null,
      "justify_content": null,
      "justify_items": null,
      "left": null,
      "margin": null,
      "max_height": null,
      "max_width": null,
      "min_height": null,
      "min_width": null,
      "object_fit": null,
      "object_position": null,
      "order": null,
      "overflow": null,
      "overflow_x": null,
      "overflow_y": null,
      "padding": null,
      "right": null,
      "top": null,
      "visibility": null,
      "width": null
     }
    },
    "513fa566f4944c32a932d7a5275fef7c": {
     "model_module": "@jupyter-widgets/controls",
     "model_module_version": "1.5.0",
     "model_name": "DescriptionStyleModel",
     "state": {
      "_model_module": "@jupyter-widgets/controls",
      "_model_module_version": "1.5.0",
      "_model_name": "DescriptionStyleModel",
      "_view_count": null,
      "_view_module": "@jupyter-widgets/base",
      "_view_module_version": "1.2.0",
      "_view_name": "StyleView",
      "description_width": ""
     }
    },
    "531d10eecda942d586956aac0eafa4fb": {
     "model_module": "@jupyter-widgets/controls",
     "model_module_version": "1.5.0",
     "model_name": "HBoxModel",
     "state": {
      "_dom_classes": [],
      "_model_module": "@jupyter-widgets/controls",
      "_model_module_version": "1.5.0",
      "_model_name": "HBoxModel",
      "_view_count": null,
      "_view_module": "@jupyter-widgets/controls",
      "_view_module_version": "1.5.0",
      "_view_name": "HBoxView",
      "box_style": "",
      "children": [
       "IPY_MODEL_b7927fb0362a49a0b8dfc551fc1e309a",
       "IPY_MODEL_dfd6ad45e4c84a138927d0075e8ed2d5",
       "IPY_MODEL_554278667aca4a4cac201928b954588b"
      ],
      "layout": "IPY_MODEL_9dbe62f64d4b44f6a6e9dc2e537aa66f"
     }
    },
    "54b647277c6d49b099cb0126b04cdf93": {
     "model_module": "@jupyter-widgets/controls",
     "model_module_version": "1.5.0",
     "model_name": "ProgressStyleModel",
     "state": {
      "_model_module": "@jupyter-widgets/controls",
      "_model_module_version": "1.5.0",
      "_model_name": "ProgressStyleModel",
      "_view_count": null,
      "_view_module": "@jupyter-widgets/base",
      "_view_module_version": "1.2.0",
      "_view_name": "StyleView",
      "bar_color": null,
      "description_width": ""
     }
    },
    "554278667aca4a4cac201928b954588b": {
     "model_module": "@jupyter-widgets/controls",
     "model_module_version": "1.5.0",
     "model_name": "HTMLModel",
     "state": {
      "_dom_classes": [],
      "_model_module": "@jupyter-widgets/controls",
      "_model_module_version": "1.5.0",
      "_model_name": "HTMLModel",
      "_view_count": null,
      "_view_module": "@jupyter-widgets/controls",
      "_view_module_version": "1.5.0",
      "_view_name": "HTMLView",
      "description": "",
      "description_tooltip": null,
      "layout": "IPY_MODEL_4efc8710b92f40cc8f1dd39cb26a9b7c",
      "placeholder": "​",
      "style": "IPY_MODEL_b3c7b4472f1d4aaa9495c3f21b393175",
      "value": " 773k/773k [00:00&lt;00:00, 9.39MB/s]"
     }
    },
    "5bf29fa7a9bc4ca49a12e73a27de9fa8": {
     "model_module": "@jupyter-widgets/base",
     "model_module_version": "1.2.0",
     "model_name": "LayoutModel",
     "state": {
      "_model_module": "@jupyter-widgets/base",
      "_model_module_version": "1.2.0",
      "_model_name": "LayoutModel",
      "_view_count": null,
      "_view_module": "@jupyter-widgets/base",
      "_view_module_version": "1.2.0",
      "_view_name": "LayoutView",
      "align_content": null,
      "align_items": null,
      "align_self": null,
      "border": null,
      "bottom": null,
      "display": null,
      "flex": null,
      "flex_flow": null,
      "grid_area": null,
      "grid_auto_columns": null,
      "grid_auto_flow": null,
      "grid_auto_rows": null,
      "grid_column": null,
      "grid_gap": null,
      "grid_row": null,
      "grid_template_areas": null,
      "grid_template_columns": null,
      "grid_template_rows": null,
      "height": null,
      "justify_content": null,
      "justify_items": null,
      "left": null,
      "margin": null,
      "max_height": null,
      "max_width": null,
      "min_height": null,
      "min_width": null,
      "object_fit": null,
      "object_position": null,
      "order": null,
      "overflow": null,
      "overflow_x": null,
      "overflow_y": null,
      "padding": null,
      "right": null,
      "top": null,
      "visibility": null,
      "width": null
     }
    },
    "76c91d35fd114335804e44bc67643379": {
     "model_module": "@jupyter-widgets/base",
     "model_module_version": "1.2.0",
     "model_name": "LayoutModel",
     "state": {
      "_model_module": "@jupyter-widgets/base",
      "_model_module_version": "1.2.0",
      "_model_name": "LayoutModel",
      "_view_count": null,
      "_view_module": "@jupyter-widgets/base",
      "_view_module_version": "1.2.0",
      "_view_name": "LayoutView",
      "align_content": null,
      "align_items": null,
      "align_self": null,
      "border": null,
      "bottom": null,
      "display": null,
      "flex": null,
      "flex_flow": null,
      "grid_area": null,
      "grid_auto_columns": null,
      "grid_auto_flow": null,
      "grid_auto_rows": null,
      "grid_column": null,
      "grid_gap": null,
      "grid_row": null,
      "grid_template_areas": null,
      "grid_template_columns": null,
      "grid_template_rows": null,
      "height": null,
      "justify_content": null,
      "justify_items": null,
      "left": null,
      "margin": null,
      "max_height": null,
      "max_width": null,
      "min_height": null,
      "min_width": null,
      "object_fit": null,
      "object_position": null,
      "order": null,
      "overflow": null,
      "overflow_x": null,
      "overflow_y": null,
      "padding": null,
      "right": null,
      "top": null,
      "visibility": null,
      "width": null
     }
    },
    "76f401c90def42a6a120829e11a32d4f": {
     "model_module": "@jupyter-widgets/controls",
     "model_module_version": "1.5.0",
     "model_name": "ProgressStyleModel",
     "state": {
      "_model_module": "@jupyter-widgets/controls",
      "_model_module_version": "1.5.0",
      "_model_name": "ProgressStyleModel",
      "_view_count": null,
      "_view_module": "@jupyter-widgets/base",
      "_view_module_version": "1.2.0",
      "_view_name": "StyleView",
      "bar_color": null,
      "description_width": ""
     }
    },
    "8ed05ba2664c4704a2229068862be268": {
     "model_module": "@jupyter-widgets/controls",
     "model_module_version": "1.5.0",
     "model_name": "HBoxModel",
     "state": {
      "_dom_classes": [],
      "_model_module": "@jupyter-widgets/controls",
      "_model_module_version": "1.5.0",
      "_model_name": "HBoxModel",
      "_view_count": null,
      "_view_module": "@jupyter-widgets/controls",
      "_view_module_version": "1.5.0",
      "_view_name": "HBoxView",
      "box_style": "",
      "children": [
       "IPY_MODEL_e3755dff0b174653b6ac8dddbe0ad2a4",
       "IPY_MODEL_0e209de84af14971ad7fdb935c7cfece",
       "IPY_MODEL_3c86801aa78e432da615688a6058da10"
      ],
      "layout": "IPY_MODEL_4e095d2e9216400c948c5c4d698345b5"
     }
    },
    "904f5cc0709e49a38920ad9b79eb5acd": {
     "model_module": "@jupyter-widgets/controls",
     "model_module_version": "1.5.0",
     "model_name": "DescriptionStyleModel",
     "state": {
      "_model_module": "@jupyter-widgets/controls",
      "_model_module_version": "1.5.0",
      "_model_name": "DescriptionStyleModel",
      "_view_count": null,
      "_view_module": "@jupyter-widgets/base",
      "_view_module_version": "1.2.0",
      "_view_name": "StyleView",
      "description_width": ""
     }
    },
    "923ef29e78e846e583fc66f7a13313da": {
     "model_module": "@jupyter-widgets/controls",
     "model_module_version": "1.5.0",
     "model_name": "DescriptionStyleModel",
     "state": {
      "_model_module": "@jupyter-widgets/controls",
      "_model_module_version": "1.5.0",
      "_model_name": "DescriptionStyleModel",
      "_view_count": null,
      "_view_module": "@jupyter-widgets/base",
      "_view_module_version": "1.2.0",
      "_view_name": "StyleView",
      "description_width": ""
     }
    },
    "9a331f77012b4aa9913658071e8d4ce2": {
     "model_module": "@jupyter-widgets/base",
     "model_module_version": "1.2.0",
     "model_name": "LayoutModel",
     "state": {
      "_model_module": "@jupyter-widgets/base",
      "_model_module_version": "1.2.0",
      "_model_name": "LayoutModel",
      "_view_count": null,
      "_view_module": "@jupyter-widgets/base",
      "_view_module_version": "1.2.0",
      "_view_name": "LayoutView",
      "align_content": null,
      "align_items": null,
      "align_self": null,
      "border": null,
      "bottom": null,
      "display": null,
      "flex": null,
      "flex_flow": null,
      "grid_area": null,
      "grid_auto_columns": null,
      "grid_auto_flow": null,
      "grid_auto_rows": null,
      "grid_column": null,
      "grid_gap": null,
      "grid_row": null,
      "grid_template_areas": null,
      "grid_template_columns": null,
      "grid_template_rows": null,
      "height": null,
      "justify_content": null,
      "justify_items": null,
      "left": null,
      "margin": null,
      "max_height": null,
      "max_width": null,
      "min_height": null,
      "min_width": null,
      "object_fit": null,
      "object_position": null,
      "order": null,
      "overflow": null,
      "overflow_x": null,
      "overflow_y": null,
      "padding": null,
      "right": null,
      "top": null,
      "visibility": null,
      "width": null
     }
    },
    "9dbe62f64d4b44f6a6e9dc2e537aa66f": {
     "model_module": "@jupyter-widgets/base",
     "model_module_version": "1.2.0",
     "model_name": "LayoutModel",
     "state": {
      "_model_module": "@jupyter-widgets/base",
      "_model_module_version": "1.2.0",
      "_model_name": "LayoutModel",
      "_view_count": null,
      "_view_module": "@jupyter-widgets/base",
      "_view_module_version": "1.2.0",
      "_view_name": "LayoutView",
      "align_content": null,
      "align_items": null,
      "align_self": null,
      "border": null,
      "bottom": null,
      "display": null,
      "flex": null,
      "flex_flow": null,
      "grid_area": null,
      "grid_auto_columns": null,
      "grid_auto_flow": null,
      "grid_auto_rows": null,
      "grid_column": null,
      "grid_gap": null,
      "grid_row": null,
      "grid_template_areas": null,
      "grid_template_columns": null,
      "grid_template_rows": null,
      "height": null,
      "justify_content": null,
      "justify_items": null,
      "left": null,
      "margin": null,
      "max_height": null,
      "max_width": null,
      "min_height": null,
      "min_width": null,
      "object_fit": null,
      "object_position": null,
      "order": null,
      "overflow": null,
      "overflow_x": null,
      "overflow_y": null,
      "padding": null,
      "right": null,
      "top": null,
      "visibility": null,
      "width": null
     }
    },
    "a208f9deb7384198a2042d8b20eb2f64": {
     "model_module": "@jupyter-widgets/base",
     "model_module_version": "1.2.0",
     "model_name": "LayoutModel",
     "state": {
      "_model_module": "@jupyter-widgets/base",
      "_model_module_version": "1.2.0",
      "_model_name": "LayoutModel",
      "_view_count": null,
      "_view_module": "@jupyter-widgets/base",
      "_view_module_version": "1.2.0",
      "_view_name": "LayoutView",
      "align_content": null,
      "align_items": null,
      "align_self": null,
      "border": null,
      "bottom": null,
      "display": null,
      "flex": null,
      "flex_flow": null,
      "grid_area": null,
      "grid_auto_columns": null,
      "grid_auto_flow": null,
      "grid_auto_rows": null,
      "grid_column": null,
      "grid_gap": null,
      "grid_row": null,
      "grid_template_areas": null,
      "grid_template_columns": null,
      "grid_template_rows": null,
      "height": null,
      "justify_content": null,
      "justify_items": null,
      "left": null,
      "margin": null,
      "max_height": null,
      "max_width": null,
      "min_height": null,
      "min_width": null,
      "object_fit": null,
      "object_position": null,
      "order": null,
      "overflow": null,
      "overflow_x": null,
      "overflow_y": null,
      "padding": null,
      "right": null,
      "top": null,
      "visibility": null,
      "width": null
     }
    },
    "b3c7b4472f1d4aaa9495c3f21b393175": {
     "model_module": "@jupyter-widgets/controls",
     "model_module_version": "1.5.0",
     "model_name": "DescriptionStyleModel",
     "state": {
      "_model_module": "@jupyter-widgets/controls",
      "_model_module_version": "1.5.0",
      "_model_name": "DescriptionStyleModel",
      "_view_count": null,
      "_view_module": "@jupyter-widgets/base",
      "_view_module_version": "1.2.0",
      "_view_name": "StyleView",
      "description_width": ""
     }
    },
    "b66a59f47ca6458cbde99938d2545d8f": {
     "model_module": "@jupyter-widgets/base",
     "model_module_version": "1.2.0",
     "model_name": "LayoutModel",
     "state": {
      "_model_module": "@jupyter-widgets/base",
      "_model_module_version": "1.2.0",
      "_model_name": "LayoutModel",
      "_view_count": null,
      "_view_module": "@jupyter-widgets/base",
      "_view_module_version": "1.2.0",
      "_view_name": "LayoutView",
      "align_content": null,
      "align_items": null,
      "align_self": null,
      "border": null,
      "bottom": null,
      "display": null,
      "flex": null,
      "flex_flow": null,
      "grid_area": null,
      "grid_auto_columns": null,
      "grid_auto_flow": null,
      "grid_auto_rows": null,
      "grid_column": null,
      "grid_gap": null,
      "grid_row": null,
      "grid_template_areas": null,
      "grid_template_columns": null,
      "grid_template_rows": null,
      "height": null,
      "justify_content": null,
      "justify_items": null,
      "left": null,
      "margin": null,
      "max_height": null,
      "max_width": null,
      "min_height": null,
      "min_width": null,
      "object_fit": null,
      "object_position": null,
      "order": null,
      "overflow": null,
      "overflow_x": null,
      "overflow_y": null,
      "padding": null,
      "right": null,
      "top": null,
      "visibility": null,
      "width": null
     }
    },
    "b7927fb0362a49a0b8dfc551fc1e309a": {
     "model_module": "@jupyter-widgets/controls",
     "model_module_version": "1.5.0",
     "model_name": "HTMLModel",
     "state": {
      "_dom_classes": [],
      "_model_module": "@jupyter-widgets/controls",
      "_model_module_version": "1.5.0",
      "_model_name": "HTMLModel",
      "_view_count": null,
      "_view_module": "@jupyter-widgets/controls",
      "_view_module_version": "1.5.0",
      "_view_name": "HTMLView",
      "description": "",
      "description_tooltip": null,
      "layout": "IPY_MODEL_76c91d35fd114335804e44bc67643379",
      "placeholder": "​",
      "style": "IPY_MODEL_904f5cc0709e49a38920ad9b79eb5acd",
      "value": "Downloading: 100%"
     }
    },
    "b9cfb41864154d76a0cc31bc3c84588f": {
     "model_module": "@jupyter-widgets/controls",
     "model_module_version": "1.5.0",
     "model_name": "DescriptionStyleModel",
     "state": {
      "_model_module": "@jupyter-widgets/controls",
      "_model_module_version": "1.5.0",
      "_model_name": "DescriptionStyleModel",
      "_view_count": null,
      "_view_module": "@jupyter-widgets/base",
      "_view_module_version": "1.2.0",
      "_view_name": "StyleView",
      "description_width": ""
     }
    },
    "bdf6c45c9b8744f091e1329ea04dae9c": {
     "model_module": "@jupyter-widgets/base",
     "model_module_version": "1.2.0",
     "model_name": "LayoutModel",
     "state": {
      "_model_module": "@jupyter-widgets/base",
      "_model_module_version": "1.2.0",
      "_model_name": "LayoutModel",
      "_view_count": null,
      "_view_module": "@jupyter-widgets/base",
      "_view_module_version": "1.2.0",
      "_view_name": "LayoutView",
      "align_content": null,
      "align_items": null,
      "align_self": null,
      "border": null,
      "bottom": null,
      "display": null,
      "flex": null,
      "flex_flow": null,
      "grid_area": null,
      "grid_auto_columns": null,
      "grid_auto_flow": null,
      "grid_auto_rows": null,
      "grid_column": null,
      "grid_gap": null,
      "grid_row": null,
      "grid_template_areas": null,
      "grid_template_columns": null,
      "grid_template_rows": null,
      "height": null,
      "justify_content": null,
      "justify_items": null,
      "left": null,
      "margin": null,
      "max_height": null,
      "max_width": null,
      "min_height": null,
      "min_width": null,
      "object_fit": null,
      "object_position": null,
      "order": null,
      "overflow": null,
      "overflow_x": null,
      "overflow_y": null,
      "padding": null,
      "right": null,
      "top": null,
      "visibility": null,
      "width": null
     }
    },
    "c712a4f58a8f44ffb805e55bdfed7458": {
     "model_module": "@jupyter-widgets/controls",
     "model_module_version": "1.5.0",
     "model_name": "HTMLModel",
     "state": {
      "_dom_classes": [],
      "_model_module": "@jupyter-widgets/controls",
      "_model_module_version": "1.5.0",
      "_model_name": "HTMLModel",
      "_view_count": null,
      "_view_module": "@jupyter-widgets/controls",
      "_view_module_version": "1.5.0",
      "_view_name": "HTMLView",
      "description": "",
      "description_tooltip": null,
      "layout": "IPY_MODEL_b66a59f47ca6458cbde99938d2545d8f",
      "placeholder": "​",
      "style": "IPY_MODEL_0546c966f7994e4da223bcf3ebee914b",
      "value": "Downloading: 100%"
     }
    },
    "cec6bc24bbab438292b7c2f68fe62b8b": {
     "model_module": "@jupyter-widgets/controls",
     "model_module_version": "1.5.0",
     "model_name": "ProgressStyleModel",
     "state": {
      "_model_module": "@jupyter-widgets/controls",
      "_model_module_version": "1.5.0",
      "_model_name": "ProgressStyleModel",
      "_view_count": null,
      "_view_module": "@jupyter-widgets/base",
      "_view_module_version": "1.2.0",
      "_view_name": "StyleView",
      "bar_color": null,
      "description_width": ""
     }
    },
    "dfd6ad45e4c84a138927d0075e8ed2d5": {
     "model_module": "@jupyter-widgets/controls",
     "model_module_version": "1.5.0",
     "model_name": "FloatProgressModel",
     "state": {
      "_dom_classes": [],
      "_model_module": "@jupyter-widgets/controls",
      "_model_module_version": "1.5.0",
      "_model_name": "FloatProgressModel",
      "_view_count": null,
      "_view_module": "@jupyter-widgets/controls",
      "_view_module_version": "1.5.0",
      "_view_name": "ProgressView",
      "bar_style": "success",
      "description": "",
      "description_tooltip": null,
      "layout": "IPY_MODEL_a208f9deb7384198a2042d8b20eb2f64",
      "max": 791656,
      "min": 0,
      "orientation": "horizontal",
      "style": "IPY_MODEL_76f401c90def42a6a120829e11a32d4f",
      "value": 791656
     }
    },
    "e3755dff0b174653b6ac8dddbe0ad2a4": {
     "model_module": "@jupyter-widgets/controls",
     "model_module_version": "1.5.0",
     "model_name": "HTMLModel",
     "state": {
      "_dom_classes": [],
      "_model_module": "@jupyter-widgets/controls",
      "_model_module_version": "1.5.0",
      "_model_name": "HTMLModel",
      "_view_count": null,
      "_view_module": "@jupyter-widgets/controls",
      "_view_module_version": "1.5.0",
      "_view_name": "HTMLView",
      "description": "",
      "description_tooltip": null,
      "layout": "IPY_MODEL_4309407da5354be9ba0b6b7ea6bd668b",
      "placeholder": "​",
      "style": "IPY_MODEL_923ef29e78e846e583fc66f7a13313da",
      "value": "Downloading: 100%"
     }
    },
    "f0370d4132064bf4b1b7602363cab011": {
     "model_module": "@jupyter-widgets/controls",
     "model_module_version": "1.5.0",
     "model_name": "HTMLModel",
     "state": {
      "_dom_classes": [],
      "_model_module": "@jupyter-widgets/controls",
      "_model_module_version": "1.5.0",
      "_model_name": "HTMLModel",
      "_view_count": null,
      "_view_module": "@jupyter-widgets/controls",
      "_view_module_version": "1.5.0",
      "_view_name": "HTMLView",
      "description": "",
      "description_tooltip": null,
      "layout": "IPY_MODEL_bdf6c45c9b8744f091e1329ea04dae9c",
      "placeholder": "​",
      "style": "IPY_MODEL_b9cfb41864154d76a0cc31bc3c84588f",
      "value": " 1.17k/1.17k [00:00&lt;00:00, 21.1kB/s]"
     }
    },
    "f63f1901fa604e8fbc8fce845ecf96dd": {
     "model_module": "@jupyter-widgets/controls",
     "model_module_version": "1.5.0",
     "model_name": "HBoxModel",
     "state": {
      "_dom_classes": [],
      "_model_module": "@jupyter-widgets/controls",
      "_model_module_version": "1.5.0",
      "_model_name": "HBoxModel",
      "_view_count": null,
      "_view_module": "@jupyter-widgets/controls",
      "_view_module_version": "1.5.0",
      "_view_name": "HBoxView",
      "box_style": "",
      "children": [
       "IPY_MODEL_c712a4f58a8f44ffb805e55bdfed7458",
       "IPY_MODEL_fdff67d2df2d4204952b3c922f861e01",
       "IPY_MODEL_f0370d4132064bf4b1b7602363cab011"
      ],
      "layout": "IPY_MODEL_9a331f77012b4aa9913658071e8d4ce2"
     }
    },
    "fcb386ec12964a2083fb7289f88646e7": {
     "model_module": "@jupyter-widgets/base",
     "model_module_version": "1.2.0",
     "model_name": "LayoutModel",
     "state": {
      "_model_module": "@jupyter-widgets/base",
      "_model_module_version": "1.2.0",
      "_model_name": "LayoutModel",
      "_view_count": null,
      "_view_module": "@jupyter-widgets/base",
      "_view_module_version": "1.2.0",
      "_view_name": "LayoutView",
      "align_content": null,
      "align_items": null,
      "align_self": null,
      "border": null,
      "bottom": null,
      "display": null,
      "flex": null,
      "flex_flow": null,
      "grid_area": null,
      "grid_auto_columns": null,
      "grid_auto_flow": null,
      "grid_auto_rows": null,
      "grid_column": null,
      "grid_gap": null,
      "grid_row": null,
      "grid_template_areas": null,
      "grid_template_columns": null,
      "grid_template_rows": null,
      "height": null,
      "justify_content": null,
      "justify_items": null,
      "left": null,
      "margin": null,
      "max_height": null,
      "max_width": null,
      "min_height": null,
      "min_width": null,
      "object_fit": null,
      "object_position": null,
      "order": null,
      "overflow": null,
      "overflow_x": null,
      "overflow_y": null,
      "padding": null,
      "right": null,
      "top": null,
      "visibility": null,
      "width": null
     }
    },
    "fdff67d2df2d4204952b3c922f861e01": {
     "model_module": "@jupyter-widgets/controls",
     "model_module_version": "1.5.0",
     "model_name": "FloatProgressModel",
     "state": {
      "_dom_classes": [],
      "_model_module": "@jupyter-widgets/controls",
      "_model_module_version": "1.5.0",
      "_model_name": "FloatProgressModel",
      "_view_count": null,
      "_view_module": "@jupyter-widgets/controls",
      "_view_module_version": "1.5.0",
      "_view_name": "ProgressView",
      "bar_style": "success",
      "description": "",
      "description_tooltip": null,
      "layout": "IPY_MODEL_1b184df5738444b696f672481f23804c",
      "max": 1199,
      "min": 0,
      "orientation": "horizontal",
      "style": "IPY_MODEL_54b647277c6d49b099cb0126b04cdf93",
      "value": 1199
     }
    }
   }
  }
 },
 "nbformat": 4,
 "nbformat_minor": 1
}
