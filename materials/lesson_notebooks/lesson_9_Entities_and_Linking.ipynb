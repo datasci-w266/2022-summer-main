{
  "nbformat": 4,
  "nbformat_minor": 0,
  "metadata": {
    "colab": {
      "name": "lesson_9_Entities_and_Linking",
      "provenance": []
    },
    "kernelspec": {
      "name": "python3",
      "display_name": "Python 3"
    },
    "language_info": {
      "name": "python"
    }
  },
  "cells": [
    {
      "cell_type": "markdown",
      "source": [
        "# Lesson notebook 9 - Entities and Linking\n",
        "\n",
        "\n",
        "\n",
        "### NER and Unsupervised Relation Extraction with SpaCy\n",
        "\n",
        "We'll use SpaCy again, a pretrained open source language processing pipeline.  It provides a platform for processing text in a number of ways without having to perform any fine-tuning.\n",
        "\n",
        "We'll use it to demonstrate SpaCy's NER capabilities out of the box.  Take a look at the entites it finds.  How well do you think it performs?\n",
        "\n",
        "Then we'll use the dependency parsing capability to extract SVO triples from a set of sentences.  Again, look at how well the extraction works.\n",
        "\n",
        "You should experiment by adding multiple sentences in to the variable nnp_doc and see how well SpaCy does with your alternative sentences.\n",
        "\n",
        "\n",
        "\n",
        "\n",
        "\n",
        "\n",
        "\n",
        "\n",
        "\n",
        "\n",
        "[![Open In Colab](https://colab.research.google.com/assets/colab-badge.svg)](https://colab.research.google.com/github/datasci-w266/2022-summer-main/blob/master/materials/lesson_notebooks/lesson_9_Entities_and_Linking.ipynb)"
      ],
      "metadata": {
        "id": "hjF4EmzwhYj_"
      }
    },
    {
      "cell_type": "markdown",
      "source": [
        "## 1. SpaCy for Language Processing \n",
        "<a id=\"spacy\" />\n",
        "\n",
        "Let's set up our environment to run the current version of [SpaCy](https://spacy.io) and feed it a small snippet of text to see what it can do.  \n",
        "\n",
        "SpaCy is an open source industrial strength NLP engine that can perform multiple functions out of the box. It strikes a good balance between speed of processing and accuracy of predictions.  It comes with a number of different language models trained on the [OntoNotes5](https://catalog.ldc.upenn.edu/LDC2013T19) data set.  This means that it is already trained to do part of speech tagging and dependency parsing.  It can also be trained to do classification and a number of other tasks in the standard NLP stack.  It is very fast.  It can be a handy way of analyzing some text for exploratory data analysis. Another use is annotating some text to then create a labelled training set that you use to train up your own model independent of spaCy.\n",
        "\n",
        "spaCy uses a combination of techniques including embeddings and convolutional neural nets to genearate the output we see. \n"
      ],
      "metadata": {
        "id": "Wbk3MQ1biv37"
      }
    },
    {
      "cell_type": "code",
      "source": [
        "!pip install -U spacy"
      ],
      "metadata": {
        "colab": {
          "base_uri": "https://localhost:8080/"
        },
        "id": "_OqE_HpzhLNx",
        "outputId": "24a79a90-2ad8-42f4-b30e-baa58fe6cb56"
      },
      "execution_count": 1,
      "outputs": [
        {
          "output_type": "stream",
          "name": "stdout",
          "text": [
            "Looking in indexes: https://pypi.org/simple, https://us-python.pkg.dev/colab-wheels/public/simple/\n",
            "Requirement already satisfied: spacy in /usr/local/lib/python3.7/dist-packages (3.3.1)\n",
            "Requirement already satisfied: typer<0.5.0,>=0.3.0 in /usr/local/lib/python3.7/dist-packages (from spacy) (0.4.1)\n",
            "Requirement already satisfied: jinja2 in /usr/local/lib/python3.7/dist-packages (from spacy) (2.11.3)\n",
            "Requirement already satisfied: requests<3.0.0,>=2.13.0 in /usr/local/lib/python3.7/dist-packages (from spacy) (2.23.0)\n",
            "Requirement already satisfied: murmurhash<1.1.0,>=0.28.0 in /usr/local/lib/python3.7/dist-packages (from spacy) (1.0.7)\n",
            "Requirement already satisfied: blis<0.8.0,>=0.4.0 in /usr/local/lib/python3.7/dist-packages (from spacy) (0.7.7)\n",
            "Requirement already satisfied: wasabi<1.1.0,>=0.9.1 in /usr/local/lib/python3.7/dist-packages (from spacy) (0.9.1)\n",
            "Requirement already satisfied: packaging>=20.0 in /usr/local/lib/python3.7/dist-packages (from spacy) (21.3)\n",
            "Requirement already satisfied: pydantic!=1.8,!=1.8.1,<1.9.0,>=1.7.4 in /usr/local/lib/python3.7/dist-packages (from spacy) (1.8.2)\n",
            "Requirement already satisfied: preshed<3.1.0,>=3.0.2 in /usr/local/lib/python3.7/dist-packages (from spacy) (3.0.6)\n",
            "Requirement already satisfied: pathy>=0.3.5 in /usr/local/lib/python3.7/dist-packages (from spacy) (0.6.1)\n",
            "Requirement already satisfied: tqdm<5.0.0,>=4.38.0 in /usr/local/lib/python3.7/dist-packages (from spacy) (4.64.0)\n",
            "Requirement already satisfied: langcodes<4.0.0,>=3.2.0 in /usr/local/lib/python3.7/dist-packages (from spacy) (3.3.0)\n",
            "Requirement already satisfied: cymem<2.1.0,>=2.0.2 in /usr/local/lib/python3.7/dist-packages (from spacy) (2.0.6)\n",
            "Requirement already satisfied: thinc<8.1.0,>=8.0.14 in /usr/local/lib/python3.7/dist-packages (from spacy) (8.0.17)\n",
            "Requirement already satisfied: spacy-legacy<3.1.0,>=3.0.9 in /usr/local/lib/python3.7/dist-packages (from spacy) (3.0.9)\n",
            "Requirement already satisfied: numpy>=1.15.0 in /usr/local/lib/python3.7/dist-packages (from spacy) (1.21.6)\n",
            "Requirement already satisfied: srsly<3.0.0,>=2.4.3 in /usr/local/lib/python3.7/dist-packages (from spacy) (2.4.3)\n",
            "Requirement already satisfied: setuptools in /usr/local/lib/python3.7/dist-packages (from spacy) (57.4.0)\n",
            "Requirement already satisfied: spacy-loggers<2.0.0,>=1.0.0 in /usr/local/lib/python3.7/dist-packages (from spacy) (1.0.2)\n",
            "Requirement already satisfied: catalogue<2.1.0,>=2.0.6 in /usr/local/lib/python3.7/dist-packages (from spacy) (2.0.7)\n",
            "Requirement already satisfied: typing-extensions<4.2.0,>=3.7.4 in /usr/local/lib/python3.7/dist-packages (from spacy) (4.1.1)\n",
            "Requirement already satisfied: zipp>=0.5 in /usr/local/lib/python3.7/dist-packages (from catalogue<2.1.0,>=2.0.6->spacy) (3.8.0)\n",
            "Requirement already satisfied: pyparsing!=3.0.5,>=2.0.2 in /usr/local/lib/python3.7/dist-packages (from packaging>=20.0->spacy) (3.0.9)\n",
            "Requirement already satisfied: smart-open<6.0.0,>=5.0.0 in /usr/local/lib/python3.7/dist-packages (from pathy>=0.3.5->spacy) (5.2.1)\n",
            "Requirement already satisfied: certifi>=2017.4.17 in /usr/local/lib/python3.7/dist-packages (from requests<3.0.0,>=2.13.0->spacy) (2022.6.15)\n",
            "Requirement already satisfied: idna<3,>=2.5 in /usr/local/lib/python3.7/dist-packages (from requests<3.0.0,>=2.13.0->spacy) (2.10)\n",
            "Requirement already satisfied: chardet<4,>=3.0.2 in /usr/local/lib/python3.7/dist-packages (from requests<3.0.0,>=2.13.0->spacy) (3.0.4)\n",
            "Requirement already satisfied: urllib3!=1.25.0,!=1.25.1,<1.26,>=1.21.1 in /usr/local/lib/python3.7/dist-packages (from requests<3.0.0,>=2.13.0->spacy) (1.24.3)\n",
            "Requirement already satisfied: click<9.0.0,>=7.1.1 in /usr/local/lib/python3.7/dist-packages (from typer<0.5.0,>=0.3.0->spacy) (7.1.2)\n",
            "Requirement already satisfied: MarkupSafe>=0.23 in /usr/local/lib/python3.7/dist-packages (from jinja2->spacy) (2.0.1)\n"
          ]
        }
      ]
    },
    {
      "cell_type": "code",
      "source": [
        "!pip install -U spacy-lookups-data"
      ],
      "metadata": {
        "colab": {
          "base_uri": "https://localhost:8080/"
        },
        "id": "KkScHG0vhLRx",
        "outputId": "14f40e4b-4d11-4903-b217-7ac47750de9d"
      },
      "execution_count": 2,
      "outputs": [
        {
          "output_type": "stream",
          "name": "stdout",
          "text": [
            "Looking in indexes: https://pypi.org/simple, https://us-python.pkg.dev/colab-wheels/public/simple/\n",
            "Collecting spacy-lookups-data\n",
            "  Downloading spacy_lookups_data-1.0.3-py2.py3-none-any.whl (98.5 MB)\n",
            "\u001b[K     |████████████████████████████████| 98.5 MB 105 kB/s \n",
            "\u001b[?25hRequirement already satisfied: setuptools in /usr/local/lib/python3.7/dist-packages (from spacy-lookups-data) (57.4.0)\n",
            "Installing collected packages: spacy-lookups-data\n",
            "Successfully installed spacy-lookups-data-1.0.3\n"
          ]
        }
      ]
    },
    {
      "cell_type": "code",
      "source": [
        "import spacy\n",
        "import pandas as pd\n",
        "\n",
        "print(spacy.__version__)\n",
        "print(pd.__version__)"
      ],
      "metadata": {
        "colab": {
          "base_uri": "https://localhost:8080/"
        },
        "id": "z9rYEr6khLT9",
        "outputId": "d364fc15-dbca-4f8b-b459-c21e4459e3a3"
      },
      "execution_count": 3,
      "outputs": [
        {
          "output_type": "stream",
          "name": "stdout",
          "text": [
            "3.3.1\n",
            "1.3.5\n"
          ]
        }
      ]
    },
    {
      "cell_type": "markdown",
      "source": [
        "#### Pre-trained Language Models for SpaCy\n",
        "\n",
        "SpaCy has also been pre-trained on multiple languages.  When using it you need to select and load a specific language model.\n",
        "\n",
        "Make sure you first download a language model then load it into SpaCy. We're selecting English via the large model which gives us access to embeddings.  There are many other options and other languages. \n",
        "\n",
        "Downloading the large model can take a couple of minutes if your network is slower."
      ],
      "metadata": {
        "id": "VfVZ9IaujaWU"
      }
    },
    {
      "cell_type": "code",
      "source": [
        "!python -m spacy download en_core_web_lg"
      ],
      "metadata": {
        "colab": {
          "base_uri": "https://localhost:8080/"
        },
        "id": "EMiI2_uYhLXl",
        "outputId": "f2760481-6982-4707-84a2-47809c3fbad8"
      },
      "execution_count": 4,
      "outputs": [
        {
          "output_type": "stream",
          "name": "stdout",
          "text": [
            "Looking in indexes: https://pypi.org/simple, https://us-python.pkg.dev/colab-wheels/public/simple/\n",
            "Collecting en-core-web-lg==3.3.0\n",
            "  Downloading https://github.com/explosion/spacy-models/releases/download/en_core_web_lg-3.3.0/en_core_web_lg-3.3.0-py3-none-any.whl (400.7 MB)\n",
            "\u001b[K     |████████████████████████████████| 400.7 MB 6.2 kB/s \n",
            "\u001b[?25hRequirement already satisfied: spacy<3.4.0,>=3.3.0.dev0 in /usr/local/lib/python3.7/dist-packages (from en-core-web-lg==3.3.0) (3.3.1)\n",
            "Requirement already satisfied: setuptools in /usr/local/lib/python3.7/dist-packages (from spacy<3.4.0,>=3.3.0.dev0->en-core-web-lg==3.3.0) (57.4.0)\n",
            "Requirement already satisfied: preshed<3.1.0,>=3.0.2 in /usr/local/lib/python3.7/dist-packages (from spacy<3.4.0,>=3.3.0.dev0->en-core-web-lg==3.3.0) (3.0.6)\n",
            "Requirement already satisfied: wasabi<1.1.0,>=0.9.1 in /usr/local/lib/python3.7/dist-packages (from spacy<3.4.0,>=3.3.0.dev0->en-core-web-lg==3.3.0) (0.9.1)\n",
            "Requirement already satisfied: typing-extensions<4.2.0,>=3.7.4 in /usr/local/lib/python3.7/dist-packages (from spacy<3.4.0,>=3.3.0.dev0->en-core-web-lg==3.3.0) (4.1.1)\n",
            "Requirement already satisfied: catalogue<2.1.0,>=2.0.6 in /usr/local/lib/python3.7/dist-packages (from spacy<3.4.0,>=3.3.0.dev0->en-core-web-lg==3.3.0) (2.0.7)\n",
            "Requirement already satisfied: spacy-loggers<2.0.0,>=1.0.0 in /usr/local/lib/python3.7/dist-packages (from spacy<3.4.0,>=3.3.0.dev0->en-core-web-lg==3.3.0) (1.0.2)\n",
            "Requirement already satisfied: jinja2 in /usr/local/lib/python3.7/dist-packages (from spacy<3.4.0,>=3.3.0.dev0->en-core-web-lg==3.3.0) (2.11.3)\n",
            "Requirement already satisfied: requests<3.0.0,>=2.13.0 in /usr/local/lib/python3.7/dist-packages (from spacy<3.4.0,>=3.3.0.dev0->en-core-web-lg==3.3.0) (2.23.0)\n",
            "Requirement already satisfied: thinc<8.1.0,>=8.0.14 in /usr/local/lib/python3.7/dist-packages (from spacy<3.4.0,>=3.3.0.dev0->en-core-web-lg==3.3.0) (8.0.17)\n",
            "Requirement already satisfied: blis<0.8.0,>=0.4.0 in /usr/local/lib/python3.7/dist-packages (from spacy<3.4.0,>=3.3.0.dev0->en-core-web-lg==3.3.0) (0.7.7)\n",
            "Requirement already satisfied: pydantic!=1.8,!=1.8.1,<1.9.0,>=1.7.4 in /usr/local/lib/python3.7/dist-packages (from spacy<3.4.0,>=3.3.0.dev0->en-core-web-lg==3.3.0) (1.8.2)\n",
            "Requirement already satisfied: murmurhash<1.1.0,>=0.28.0 in /usr/local/lib/python3.7/dist-packages (from spacy<3.4.0,>=3.3.0.dev0->en-core-web-lg==3.3.0) (1.0.7)\n",
            "Requirement already satisfied: langcodes<4.0.0,>=3.2.0 in /usr/local/lib/python3.7/dist-packages (from spacy<3.4.0,>=3.3.0.dev0->en-core-web-lg==3.3.0) (3.3.0)\n",
            "Requirement already satisfied: packaging>=20.0 in /usr/local/lib/python3.7/dist-packages (from spacy<3.4.0,>=3.3.0.dev0->en-core-web-lg==3.3.0) (21.3)\n",
            "Requirement already satisfied: tqdm<5.0.0,>=4.38.0 in /usr/local/lib/python3.7/dist-packages (from spacy<3.4.0,>=3.3.0.dev0->en-core-web-lg==3.3.0) (4.64.0)\n",
            "Requirement already satisfied: typer<0.5.0,>=0.3.0 in /usr/local/lib/python3.7/dist-packages (from spacy<3.4.0,>=3.3.0.dev0->en-core-web-lg==3.3.0) (0.4.1)\n",
            "Requirement already satisfied: pathy>=0.3.5 in /usr/local/lib/python3.7/dist-packages (from spacy<3.4.0,>=3.3.0.dev0->en-core-web-lg==3.3.0) (0.6.1)\n",
            "Requirement already satisfied: spacy-legacy<3.1.0,>=3.0.9 in /usr/local/lib/python3.7/dist-packages (from spacy<3.4.0,>=3.3.0.dev0->en-core-web-lg==3.3.0) (3.0.9)\n",
            "Requirement already satisfied: numpy>=1.15.0 in /usr/local/lib/python3.7/dist-packages (from spacy<3.4.0,>=3.3.0.dev0->en-core-web-lg==3.3.0) (1.21.6)\n",
            "Requirement already satisfied: srsly<3.0.0,>=2.4.3 in /usr/local/lib/python3.7/dist-packages (from spacy<3.4.0,>=3.3.0.dev0->en-core-web-lg==3.3.0) (2.4.3)\n",
            "Requirement already satisfied: cymem<2.1.0,>=2.0.2 in /usr/local/lib/python3.7/dist-packages (from spacy<3.4.0,>=3.3.0.dev0->en-core-web-lg==3.3.0) (2.0.6)\n",
            "Requirement already satisfied: zipp>=0.5 in /usr/local/lib/python3.7/dist-packages (from catalogue<2.1.0,>=2.0.6->spacy<3.4.0,>=3.3.0.dev0->en-core-web-lg==3.3.0) (3.8.0)\n",
            "Requirement already satisfied: pyparsing!=3.0.5,>=2.0.2 in /usr/local/lib/python3.7/dist-packages (from packaging>=20.0->spacy<3.4.0,>=3.3.0.dev0->en-core-web-lg==3.3.0) (3.0.9)\n",
            "Requirement already satisfied: smart-open<6.0.0,>=5.0.0 in /usr/local/lib/python3.7/dist-packages (from pathy>=0.3.5->spacy<3.4.0,>=3.3.0.dev0->en-core-web-lg==3.3.0) (5.2.1)\n",
            "Requirement already satisfied: chardet<4,>=3.0.2 in /usr/local/lib/python3.7/dist-packages (from requests<3.0.0,>=2.13.0->spacy<3.4.0,>=3.3.0.dev0->en-core-web-lg==3.3.0) (3.0.4)\n",
            "Requirement already satisfied: urllib3!=1.25.0,!=1.25.1,<1.26,>=1.21.1 in /usr/local/lib/python3.7/dist-packages (from requests<3.0.0,>=2.13.0->spacy<3.4.0,>=3.3.0.dev0->en-core-web-lg==3.3.0) (1.24.3)\n",
            "Requirement already satisfied: certifi>=2017.4.17 in /usr/local/lib/python3.7/dist-packages (from requests<3.0.0,>=2.13.0->spacy<3.4.0,>=3.3.0.dev0->en-core-web-lg==3.3.0) (2022.6.15)\n",
            "Requirement already satisfied: idna<3,>=2.5 in /usr/local/lib/python3.7/dist-packages (from requests<3.0.0,>=2.13.0->spacy<3.4.0,>=3.3.0.dev0->en-core-web-lg==3.3.0) (2.10)\n",
            "Requirement already satisfied: click<9.0.0,>=7.1.1 in /usr/local/lib/python3.7/dist-packages (from typer<0.5.0,>=0.3.0->spacy<3.4.0,>=3.3.0.dev0->en-core-web-lg==3.3.0) (7.1.2)\n",
            "Requirement already satisfied: MarkupSafe>=0.23 in /usr/local/lib/python3.7/dist-packages (from jinja2->spacy<3.4.0,>=3.3.0.dev0->en-core-web-lg==3.3.0) (2.0.1)\n",
            "Installing collected packages: en-core-web-lg\n",
            "Successfully installed en-core-web-lg-3.3.0\n",
            "\u001b[38;5;2m✔ Download and installation successful\u001b[0m\n",
            "You can now load the package via spacy.load('en_core_web_lg')\n"
          ]
        }
      ]
    },
    {
      "cell_type": "code",
      "source": [
        "#load an english model -- the large model includes word embeddings\n",
        "nlp = spacy.load(\"en_core_web_lg\")"
      ],
      "metadata": {
        "id": "McEi8IdKhLaG"
      },
      "execution_count": 5,
      "outputs": []
    },
    {
      "cell_type": "markdown",
      "source": [
        "\n",
        "#### Dependency Parsing\n",
        "\n",
        "As we saw last week, SpaCy performs dependency parsing right out of the box. This can be a very handy way of identifying words and the relations between them. Sometimes those relations fundamentally change the meaning of the word as in the case of negation.\n"
      ],
      "metadata": {
        "id": "_Kpjc1uKkfOt"
      }
    },
    {
      "cell_type": "code",
      "source": [
        "#dependency parsing\n",
        "w266_text = 'Students are learning Natural Language Processing in the W266 class.'\n",
        "w266_doc = nlp(w266_text)\n",
        "for token in w266_doc:\n",
        "    print (token.text, token.tag_, token.head.text, token.dep_)"
      ],
      "metadata": {
        "colab": {
          "base_uri": "https://localhost:8080/"
        },
        "id": "BwFxecKGhLeI",
        "outputId": "21ffc64c-4d05-49c3-8d53-924bb56e268f"
      },
      "execution_count": 6,
      "outputs": [
        {
          "output_type": "stream",
          "name": "stdout",
          "text": [
            "Students NNS learning nsubj\n",
            "are VBP learning aux\n",
            "learning VBG learning ROOT\n",
            "Natural NNP Language compound\n",
            "Language NNP Processing compound\n",
            "Processing NNP learning dobj\n",
            "in IN Processing prep\n",
            "the DT class det\n",
            "W266 NNP class compound\n",
            "class NN in pobj\n",
            ". . learning punct\n"
          ]
        }
      ]
    },
    {
      "cell_type": "code",
      "source": [
        "#if you capture the tags in a dataframe you can then perform additional \n",
        "#operations like counting and filtering and searching\n",
        "\n",
        "df = pd.DataFrame()\n",
        "df['text'] = [token.text for token in w266_doc]\n",
        "df['lemma'] = [token.lemma_ for token in w266_doc]\n",
        "df['is_punctuation'] = [token.is_punct for token in w266_doc]\n",
        "df['is_space'] = [token.is_space for token in w266_doc]\n",
        "df['shape'] = [token.shape_ for token in w266_doc]\n",
        "df['part_of_speech'] = [token.pos_ for token in w266_doc]\n",
        "df['pos_tag'] = [token.tag_ for token in w266_doc]\n",
        "df['head'] = [token.head.text for token in w266_doc] \n",
        "df['dep'] = [token.dep_ for token in w266_doc]\n",
        "\n",
        "df"
      ],
      "metadata": {
        "colab": {
          "base_uri": "https://localhost:8080/",
          "height": 394
        },
        "id": "VbGjbEuQhLgv",
        "outputId": "30dfabec-f80e-44f0-d9bb-1b80cdd93872"
      },
      "execution_count": 7,
      "outputs": [
        {
          "output_type": "execute_result",
          "data": {
            "text/plain": [
              "          text       lemma  is_punctuation  is_space  shape part_of_speech  \\\n",
              "0     Students     student           False     False  Xxxxx           NOUN   \n",
              "1          are          be           False     False    xxx            AUX   \n",
              "2     learning       learn           False     False   xxxx           VERB   \n",
              "3      Natural     Natural           False     False  Xxxxx          PROPN   \n",
              "4     Language    Language           False     False  Xxxxx          PROPN   \n",
              "5   Processing  Processing           False     False  Xxxxx          PROPN   \n",
              "6           in          in           False     False     xx            ADP   \n",
              "7          the         the           False     False    xxx            DET   \n",
              "8         W266        W266           False     False   Xddd          PROPN   \n",
              "9        class       class           False     False   xxxx           NOUN   \n",
              "10           .           .            True     False      .          PUNCT   \n",
              "\n",
              "   pos_tag        head       dep  \n",
              "0      NNS    learning     nsubj  \n",
              "1      VBP    learning       aux  \n",
              "2      VBG    learning      ROOT  \n",
              "3      NNP    Language  compound  \n",
              "4      NNP  Processing  compound  \n",
              "5      NNP    learning      dobj  \n",
              "6       IN  Processing      prep  \n",
              "7       DT       class       det  \n",
              "8      NNP       class  compound  \n",
              "9       NN          in      pobj  \n",
              "10       .    learning     punct  "
            ],
            "text/html": [
              "\n",
              "  <div id=\"df-0e39b73c-f1b5-432e-bfa7-7cbdf057f8c9\">\n",
              "    <div class=\"colab-df-container\">\n",
              "      <div>\n",
              "<style scoped>\n",
              "    .dataframe tbody tr th:only-of-type {\n",
              "        vertical-align: middle;\n",
              "    }\n",
              "\n",
              "    .dataframe tbody tr th {\n",
              "        vertical-align: top;\n",
              "    }\n",
              "\n",
              "    .dataframe thead th {\n",
              "        text-align: right;\n",
              "    }\n",
              "</style>\n",
              "<table border=\"1\" class=\"dataframe\">\n",
              "  <thead>\n",
              "    <tr style=\"text-align: right;\">\n",
              "      <th></th>\n",
              "      <th>text</th>\n",
              "      <th>lemma</th>\n",
              "      <th>is_punctuation</th>\n",
              "      <th>is_space</th>\n",
              "      <th>shape</th>\n",
              "      <th>part_of_speech</th>\n",
              "      <th>pos_tag</th>\n",
              "      <th>head</th>\n",
              "      <th>dep</th>\n",
              "    </tr>\n",
              "  </thead>\n",
              "  <tbody>\n",
              "    <tr>\n",
              "      <th>0</th>\n",
              "      <td>Students</td>\n",
              "      <td>student</td>\n",
              "      <td>False</td>\n",
              "      <td>False</td>\n",
              "      <td>Xxxxx</td>\n",
              "      <td>NOUN</td>\n",
              "      <td>NNS</td>\n",
              "      <td>learning</td>\n",
              "      <td>nsubj</td>\n",
              "    </tr>\n",
              "    <tr>\n",
              "      <th>1</th>\n",
              "      <td>are</td>\n",
              "      <td>be</td>\n",
              "      <td>False</td>\n",
              "      <td>False</td>\n",
              "      <td>xxx</td>\n",
              "      <td>AUX</td>\n",
              "      <td>VBP</td>\n",
              "      <td>learning</td>\n",
              "      <td>aux</td>\n",
              "    </tr>\n",
              "    <tr>\n",
              "      <th>2</th>\n",
              "      <td>learning</td>\n",
              "      <td>learn</td>\n",
              "      <td>False</td>\n",
              "      <td>False</td>\n",
              "      <td>xxxx</td>\n",
              "      <td>VERB</td>\n",
              "      <td>VBG</td>\n",
              "      <td>learning</td>\n",
              "      <td>ROOT</td>\n",
              "    </tr>\n",
              "    <tr>\n",
              "      <th>3</th>\n",
              "      <td>Natural</td>\n",
              "      <td>Natural</td>\n",
              "      <td>False</td>\n",
              "      <td>False</td>\n",
              "      <td>Xxxxx</td>\n",
              "      <td>PROPN</td>\n",
              "      <td>NNP</td>\n",
              "      <td>Language</td>\n",
              "      <td>compound</td>\n",
              "    </tr>\n",
              "    <tr>\n",
              "      <th>4</th>\n",
              "      <td>Language</td>\n",
              "      <td>Language</td>\n",
              "      <td>False</td>\n",
              "      <td>False</td>\n",
              "      <td>Xxxxx</td>\n",
              "      <td>PROPN</td>\n",
              "      <td>NNP</td>\n",
              "      <td>Processing</td>\n",
              "      <td>compound</td>\n",
              "    </tr>\n",
              "    <tr>\n",
              "      <th>5</th>\n",
              "      <td>Processing</td>\n",
              "      <td>Processing</td>\n",
              "      <td>False</td>\n",
              "      <td>False</td>\n",
              "      <td>Xxxxx</td>\n",
              "      <td>PROPN</td>\n",
              "      <td>NNP</td>\n",
              "      <td>learning</td>\n",
              "      <td>dobj</td>\n",
              "    </tr>\n",
              "    <tr>\n",
              "      <th>6</th>\n",
              "      <td>in</td>\n",
              "      <td>in</td>\n",
              "      <td>False</td>\n",
              "      <td>False</td>\n",
              "      <td>xx</td>\n",
              "      <td>ADP</td>\n",
              "      <td>IN</td>\n",
              "      <td>Processing</td>\n",
              "      <td>prep</td>\n",
              "    </tr>\n",
              "    <tr>\n",
              "      <th>7</th>\n",
              "      <td>the</td>\n",
              "      <td>the</td>\n",
              "      <td>False</td>\n",
              "      <td>False</td>\n",
              "      <td>xxx</td>\n",
              "      <td>DET</td>\n",
              "      <td>DT</td>\n",
              "      <td>class</td>\n",
              "      <td>det</td>\n",
              "    </tr>\n",
              "    <tr>\n",
              "      <th>8</th>\n",
              "      <td>W266</td>\n",
              "      <td>W266</td>\n",
              "      <td>False</td>\n",
              "      <td>False</td>\n",
              "      <td>Xddd</td>\n",
              "      <td>PROPN</td>\n",
              "      <td>NNP</td>\n",
              "      <td>class</td>\n",
              "      <td>compound</td>\n",
              "    </tr>\n",
              "    <tr>\n",
              "      <th>9</th>\n",
              "      <td>class</td>\n",
              "      <td>class</td>\n",
              "      <td>False</td>\n",
              "      <td>False</td>\n",
              "      <td>xxxx</td>\n",
              "      <td>NOUN</td>\n",
              "      <td>NN</td>\n",
              "      <td>in</td>\n",
              "      <td>pobj</td>\n",
              "    </tr>\n",
              "    <tr>\n",
              "      <th>10</th>\n",
              "      <td>.</td>\n",
              "      <td>.</td>\n",
              "      <td>True</td>\n",
              "      <td>False</td>\n",
              "      <td>.</td>\n",
              "      <td>PUNCT</td>\n",
              "      <td>.</td>\n",
              "      <td>learning</td>\n",
              "      <td>punct</td>\n",
              "    </tr>\n",
              "  </tbody>\n",
              "</table>\n",
              "</div>\n",
              "      <button class=\"colab-df-convert\" onclick=\"convertToInteractive('df-0e39b73c-f1b5-432e-bfa7-7cbdf057f8c9')\"\n",
              "              title=\"Convert this dataframe to an interactive table.\"\n",
              "              style=\"display:none;\">\n",
              "        \n",
              "  <svg xmlns=\"http://www.w3.org/2000/svg\" height=\"24px\"viewBox=\"0 0 24 24\"\n",
              "       width=\"24px\">\n",
              "    <path d=\"M0 0h24v24H0V0z\" fill=\"none\"/>\n",
              "    <path d=\"M18.56 5.44l.94 2.06.94-2.06 2.06-.94-2.06-.94-.94-2.06-.94 2.06-2.06.94zm-11 1L8.5 8.5l.94-2.06 2.06-.94-2.06-.94L8.5 2.5l-.94 2.06-2.06.94zm10 10l.94 2.06.94-2.06 2.06-.94-2.06-.94-.94-2.06-.94 2.06-2.06.94z\"/><path d=\"M17.41 7.96l-1.37-1.37c-.4-.4-.92-.59-1.43-.59-.52 0-1.04.2-1.43.59L10.3 9.45l-7.72 7.72c-.78.78-.78 2.05 0 2.83L4 21.41c.39.39.9.59 1.41.59.51 0 1.02-.2 1.41-.59l7.78-7.78 2.81-2.81c.8-.78.8-2.07 0-2.86zM5.41 20L4 18.59l7.72-7.72 1.47 1.35L5.41 20z\"/>\n",
              "  </svg>\n",
              "      </button>\n",
              "      \n",
              "  <style>\n",
              "    .colab-df-container {\n",
              "      display:flex;\n",
              "      flex-wrap:wrap;\n",
              "      gap: 12px;\n",
              "    }\n",
              "\n",
              "    .colab-df-convert {\n",
              "      background-color: #E8F0FE;\n",
              "      border: none;\n",
              "      border-radius: 50%;\n",
              "      cursor: pointer;\n",
              "      display: none;\n",
              "      fill: #1967D2;\n",
              "      height: 32px;\n",
              "      padding: 0 0 0 0;\n",
              "      width: 32px;\n",
              "    }\n",
              "\n",
              "    .colab-df-convert:hover {\n",
              "      background-color: #E2EBFA;\n",
              "      box-shadow: 0px 1px 2px rgba(60, 64, 67, 0.3), 0px 1px 3px 1px rgba(60, 64, 67, 0.15);\n",
              "      fill: #174EA6;\n",
              "    }\n",
              "\n",
              "    [theme=dark] .colab-df-convert {\n",
              "      background-color: #3B4455;\n",
              "      fill: #D2E3FC;\n",
              "    }\n",
              "\n",
              "    [theme=dark] .colab-df-convert:hover {\n",
              "      background-color: #434B5C;\n",
              "      box-shadow: 0px 1px 3px 1px rgba(0, 0, 0, 0.15);\n",
              "      filter: drop-shadow(0px 1px 2px rgba(0, 0, 0, 0.3));\n",
              "      fill: #FFFFFF;\n",
              "    }\n",
              "  </style>\n",
              "\n",
              "      <script>\n",
              "        const buttonEl =\n",
              "          document.querySelector('#df-0e39b73c-f1b5-432e-bfa7-7cbdf057f8c9 button.colab-df-convert');\n",
              "        buttonEl.style.display =\n",
              "          google.colab.kernel.accessAllowed ? 'block' : 'none';\n",
              "\n",
              "        async function convertToInteractive(key) {\n",
              "          const element = document.querySelector('#df-0e39b73c-f1b5-432e-bfa7-7cbdf057f8c9');\n",
              "          const dataTable =\n",
              "            await google.colab.kernel.invokeFunction('convertToInteractive',\n",
              "                                                     [key], {});\n",
              "          if (!dataTable) return;\n",
              "\n",
              "          const docLinkHtml = 'Like what you see? Visit the ' +\n",
              "            '<a target=\"_blank\" href=https://colab.research.google.com/notebooks/data_table.ipynb>data table notebook</a>'\n",
              "            + ' to learn more about interactive tables.';\n",
              "          element.innerHTML = '';\n",
              "          dataTable['output_type'] = 'display_data';\n",
              "          await google.colab.output.renderOutput(dataTable, element);\n",
              "          const docLink = document.createElement('div');\n",
              "          docLink.innerHTML = docLinkHtml;\n",
              "          element.appendChild(docLink);\n",
              "        }\n",
              "      </script>\n",
              "    </div>\n",
              "  </div>\n",
              "  "
            ]
          },
          "metadata": {},
          "execution_count": 7
        }
      ]
    },
    {
      "cell_type": "markdown",
      "source": [
        "\n",
        "#### Named Entity Recognition\n",
        "\n",
        "SpaCy is also trained to do some basic NER out of the box. It has been trained using OntoNotes5 so you can see the set of entity tags it uses to annotate its content. If those don't work for you, then you can train spaCy to identify different entities or use a different tag set.\n"
      ],
      "metadata": {
        "id": "McCSNaBSl07X"
      }
    },
    {
      "cell_type": "code",
      "source": [
        "#We'll use nnp_doc to demonstrate SpaCy's information extraction capability\n",
        "nnp_doc = nlp('On the afternoon of November 19, 1863, Lincoln went to Gettysburg. He gave his famous speech there. The Gettysburg Address began with four score and seven years ago.')\n",
        "\n",
        "#NER example\n",
        "for ent in nnp_doc.ents:\n",
        "    print(ent.text, ent.start_char, ent.end_char,\n",
        "        ent.label_, spacy.explain(ent.label_))"
      ],
      "metadata": {
        "colab": {
          "base_uri": "https://localhost:8080/"
        },
        "id": "-TWv_RfwhLkd",
        "outputId": "3e25c51b-7855-48da-a91a-e02b1db52503"
      },
      "execution_count": 8,
      "outputs": [
        {
          "output_type": "stream",
          "name": "stdout",
          "text": [
            "the afternoon of November 19, 1863 3 37 TIME Times smaller than a day\n",
            "Lincoln 39 46 ORG Companies, agencies, institutions, etc.\n",
            "Gettysburg 55 65 GPE Countries, cities, states\n",
            "The Gettysburg Address 100 122 PERSON People, including fictional\n",
            "four 134 138 CARDINAL Numerals that do not fall under another type\n",
            "seven years ago 149 164 DATE Absolute or relative dates or periods\n"
          ]
        }
      ]
    },
    {
      "cell_type": "markdown",
      "source": [
        "Note the NER parser makes some errors.  It tags Lincoln as an Organization and The Gettysburg Address as a person.  This is clearly wrong.  To try and fix the issue you would need to fine-tune the SpaCy model to teach it to prefer Lincoln as a person rather than an Organization.\n",
        "\n",
        "#### SVO Triple Extraction example\n",
        "\n",
        "You can leverage the dependency graph to identify subject-verb-object triples. These can be used to populate a knowledge graph or to extract \"facts\" from text.\n"
      ],
      "metadata": {
        "id": "awUl7V-bnMIi"
      }
    },
    {
      "cell_type": "code",
      "source": [
        "#SVO extraction\n",
        "\n",
        "# object and subject constants\n",
        "OBJECT_DEPS = {\"dobj\", \"dative\", \"attr\", \"oprd\", \"pobj\"}\n",
        "SUBJECT_DEPS = {\"nsubj\", \"nsubjpass\", \"csubj\", \"agent\", \"expl\"}\n",
        "\n",
        "# extract the subject, object and verb from the input\n",
        "def extract_triples(doc):\n",
        "    sub = []\n",
        "    at = []\n",
        "    ve = []\n",
        "    for token in doc:\n",
        "        # is this a verb?\n",
        "        if token.pos_ == \"VERB\":\n",
        "            ve.append(token.text)\n",
        "            #print(\"append to VERB: \"+token.text)\n",
        "        # is this the object?\n",
        "        if token.dep_ in OBJECT_DEPS or token.head.dep_ in OBJECT_DEPS:\n",
        "            at.append(token.text)\n",
        "            #print(\"append to OBJ: \" + token.text)\n",
        "        # is this the subject?\n",
        "        if token.dep_ in SUBJECT_DEPS or token.head.dep_ in SUBJECT_DEPS:\n",
        "            sub.append(token.text)\n",
        "            #print(\"append to SUBJ: \" + token.text)\n",
        "    return \" \".join(sub).strip().lower(), \" \".join(ve).strip().lower(), \" \".join(at).strip().lower()\n",
        "\n",
        "\n",
        "# print out the pos and deps\n",
        "for token in nnp_doc:\n",
        "    print(\"Token {} POS: {}, dep: {}\".format(token.text, token.pos_, token.dep_))"
      ],
      "metadata": {
        "colab": {
          "base_uri": "https://localhost:8080/"
        },
        "id": "aKrzZXy_hLnG",
        "outputId": "805edf58-4da2-4a52-fe6a-8ffa66ef2e0e"
      },
      "execution_count": 9,
      "outputs": [
        {
          "output_type": "stream",
          "name": "stdout",
          "text": [
            "Token On POS: ADP, dep: prep\n",
            "Token the POS: DET, dep: det\n",
            "Token afternoon POS: NOUN, dep: pobj\n",
            "Token of POS: ADP, dep: prep\n",
            "Token November POS: PROPN, dep: pobj\n",
            "Token 19 POS: NUM, dep: nummod\n",
            "Token , POS: PUNCT, dep: punct\n",
            "Token 1863 POS: NUM, dep: nummod\n",
            "Token , POS: PUNCT, dep: punct\n",
            "Token Lincoln POS: PROPN, dep: nsubj\n",
            "Token went POS: VERB, dep: ROOT\n",
            "Token to POS: ADP, dep: prep\n",
            "Token Gettysburg POS: PROPN, dep: pobj\n",
            "Token . POS: PUNCT, dep: punct\n",
            "Token He POS: PRON, dep: nsubj\n",
            "Token gave POS: VERB, dep: ROOT\n",
            "Token his POS: PRON, dep: poss\n",
            "Token famous POS: ADJ, dep: amod\n",
            "Token speech POS: NOUN, dep: dobj\n",
            "Token there POS: ADV, dep: advmod\n",
            "Token . POS: PUNCT, dep: punct\n",
            "Token The POS: DET, dep: det\n",
            "Token Gettysburg POS: PROPN, dep: compound\n",
            "Token Address POS: PROPN, dep: nsubj\n",
            "Token began POS: VERB, dep: ROOT\n",
            "Token with POS: ADP, dep: prep\n",
            "Token four POS: NUM, dep: nummod\n",
            "Token score POS: NOUN, dep: pobj\n",
            "Token and POS: CCONJ, dep: cc\n",
            "Token seven POS: NUM, dep: nummod\n",
            "Token years POS: NOUN, dep: npadvmod\n",
            "Token ago POS: ADV, dep: advmod\n",
            "Token . POS: PUNCT, dep: punct\n"
          ]
        }
      ]
    },
    {
      "cell_type": "markdown",
      "source": [
        "We'll process our document again, first dividing it into sentences, and then looping through those sentences to extract SVO triples from each sentence."
      ],
      "metadata": {
        "id": "yzjIpM7t9bfQ"
      }
    },
    {
      "cell_type": "code",
      "source": [
        "#Let's process our nnp_doc again and split it in to sentences.  We'll then operate on each sentence separetely.\n",
        "sentences = list(nnp_doc.sents)\n",
        "sents = []\n",
        "[sents.append(str(sentence)) for sentence in sentences]\n",
        "print(\"First three sentences:\")\n",
        "sents[0:3]"
      ],
      "metadata": {
        "colab": {
          "base_uri": "https://localhost:8080/"
        },
        "id": "_F_r-X7IxSdZ",
        "outputId": "7cc9cdfb-23e6-4158-901c-7170fe4e1401"
      },
      "execution_count": 10,
      "outputs": [
        {
          "output_type": "stream",
          "name": "stdout",
          "text": [
            "First three sentences:\n"
          ]
        },
        {
          "output_type": "execute_result",
          "data": {
            "text/plain": [
              "['On the afternoon of November 19, 1863, Lincoln went to Gettysburg.',\n",
              " 'He gave his famous speech there.',\n",
              " 'The Gettysburg Address began with four score and seven years ago.']"
            ]
          },
          "metadata": {},
          "execution_count": 10
        }
      ]
    },
    {
      "cell_type": "markdown",
      "source": [
        "Now, let's iterate through the sentences, extract the SVO triples, and display them in a pandas dataframe."
      ],
      "metadata": {
        "id": "4UAs1ur59xM-"
      }
    },
    {
      "cell_type": "code",
      "source": [
        "# Create empty lists to store all subject, verbs, and objects\n",
        "subjects = []\n",
        "verbs = []\n",
        "objects = []\n",
        "\n",
        "\n",
        "# Grab the SVOs from each parsed input sentence\n",
        "for sent in sents:\n",
        "    doc = nlp(sent)\n",
        "    s,v,o = extract_triples(doc)\n",
        "    subjects.append(s)\n",
        "    verbs.append(v)\n",
        "    objects.append(o)\n",
        "\n",
        "\n",
        "# store them in a df\n",
        "svo_df = pd.DataFrame({'subj':subjects, 'verb':verbs, 'obj':objects})\n",
        "svo_df.sample(3)"
      ],
      "metadata": {
        "colab": {
          "base_uri": "https://localhost:8080/",
          "height": 143
        },
        "id": "FatrbqfnxSQW",
        "outputId": "8980ff84-eebf-4557-f80b-37e738a77e40"
      },
      "execution_count": 11,
      "outputs": [
        {
          "output_type": "execute_result",
          "data": {
            "text/plain": [
              "                     subj   verb  \\\n",
              "2  the gettysburg address  began   \n",
              "1                      he   gave   \n",
              "0                 lincoln   went   \n",
              "\n",
              "                                              obj  \n",
              "2                                  four score and  \n",
              "1                               his famous speech  \n",
              "0  the afternoon of november 19 , 1863 gettysburg  "
            ],
            "text/html": [
              "\n",
              "  <div id=\"df-d84fec6c-e797-455c-9844-db29c40af599\">\n",
              "    <div class=\"colab-df-container\">\n",
              "      <div>\n",
              "<style scoped>\n",
              "    .dataframe tbody tr th:only-of-type {\n",
              "        vertical-align: middle;\n",
              "    }\n",
              "\n",
              "    .dataframe tbody tr th {\n",
              "        vertical-align: top;\n",
              "    }\n",
              "\n",
              "    .dataframe thead th {\n",
              "        text-align: right;\n",
              "    }\n",
              "</style>\n",
              "<table border=\"1\" class=\"dataframe\">\n",
              "  <thead>\n",
              "    <tr style=\"text-align: right;\">\n",
              "      <th></th>\n",
              "      <th>subj</th>\n",
              "      <th>verb</th>\n",
              "      <th>obj</th>\n",
              "    </tr>\n",
              "  </thead>\n",
              "  <tbody>\n",
              "    <tr>\n",
              "      <th>2</th>\n",
              "      <td>the gettysburg address</td>\n",
              "      <td>began</td>\n",
              "      <td>four score and</td>\n",
              "    </tr>\n",
              "    <tr>\n",
              "      <th>1</th>\n",
              "      <td>he</td>\n",
              "      <td>gave</td>\n",
              "      <td>his famous speech</td>\n",
              "    </tr>\n",
              "    <tr>\n",
              "      <th>0</th>\n",
              "      <td>lincoln</td>\n",
              "      <td>went</td>\n",
              "      <td>the afternoon of november 19 , 1863 gettysburg</td>\n",
              "    </tr>\n",
              "  </tbody>\n",
              "</table>\n",
              "</div>\n",
              "      <button class=\"colab-df-convert\" onclick=\"convertToInteractive('df-d84fec6c-e797-455c-9844-db29c40af599')\"\n",
              "              title=\"Convert this dataframe to an interactive table.\"\n",
              "              style=\"display:none;\">\n",
              "        \n",
              "  <svg xmlns=\"http://www.w3.org/2000/svg\" height=\"24px\"viewBox=\"0 0 24 24\"\n",
              "       width=\"24px\">\n",
              "    <path d=\"M0 0h24v24H0V0z\" fill=\"none\"/>\n",
              "    <path d=\"M18.56 5.44l.94 2.06.94-2.06 2.06-.94-2.06-.94-.94-2.06-.94 2.06-2.06.94zm-11 1L8.5 8.5l.94-2.06 2.06-.94-2.06-.94L8.5 2.5l-.94 2.06-2.06.94zm10 10l.94 2.06.94-2.06 2.06-.94-2.06-.94-.94-2.06-.94 2.06-2.06.94z\"/><path d=\"M17.41 7.96l-1.37-1.37c-.4-.4-.92-.59-1.43-.59-.52 0-1.04.2-1.43.59L10.3 9.45l-7.72 7.72c-.78.78-.78 2.05 0 2.83L4 21.41c.39.39.9.59 1.41.59.51 0 1.02-.2 1.41-.59l7.78-7.78 2.81-2.81c.8-.78.8-2.07 0-2.86zM5.41 20L4 18.59l7.72-7.72 1.47 1.35L5.41 20z\"/>\n",
              "  </svg>\n",
              "      </button>\n",
              "      \n",
              "  <style>\n",
              "    .colab-df-container {\n",
              "      display:flex;\n",
              "      flex-wrap:wrap;\n",
              "      gap: 12px;\n",
              "    }\n",
              "\n",
              "    .colab-df-convert {\n",
              "      background-color: #E8F0FE;\n",
              "      border: none;\n",
              "      border-radius: 50%;\n",
              "      cursor: pointer;\n",
              "      display: none;\n",
              "      fill: #1967D2;\n",
              "      height: 32px;\n",
              "      padding: 0 0 0 0;\n",
              "      width: 32px;\n",
              "    }\n",
              "\n",
              "    .colab-df-convert:hover {\n",
              "      background-color: #E2EBFA;\n",
              "      box-shadow: 0px 1px 2px rgba(60, 64, 67, 0.3), 0px 1px 3px 1px rgba(60, 64, 67, 0.15);\n",
              "      fill: #174EA6;\n",
              "    }\n",
              "\n",
              "    [theme=dark] .colab-df-convert {\n",
              "      background-color: #3B4455;\n",
              "      fill: #D2E3FC;\n",
              "    }\n",
              "\n",
              "    [theme=dark] .colab-df-convert:hover {\n",
              "      background-color: #434B5C;\n",
              "      box-shadow: 0px 1px 3px 1px rgba(0, 0, 0, 0.15);\n",
              "      filter: drop-shadow(0px 1px 2px rgba(0, 0, 0, 0.3));\n",
              "      fill: #FFFFFF;\n",
              "    }\n",
              "  </style>\n",
              "\n",
              "      <script>\n",
              "        const buttonEl =\n",
              "          document.querySelector('#df-d84fec6c-e797-455c-9844-db29c40af599 button.colab-df-convert');\n",
              "        buttonEl.style.display =\n",
              "          google.colab.kernel.accessAllowed ? 'block' : 'none';\n",
              "\n",
              "        async function convertToInteractive(key) {\n",
              "          const element = document.querySelector('#df-d84fec6c-e797-455c-9844-db29c40af599');\n",
              "          const dataTable =\n",
              "            await google.colab.kernel.invokeFunction('convertToInteractive',\n",
              "                                                     [key], {});\n",
              "          if (!dataTable) return;\n",
              "\n",
              "          const docLinkHtml = 'Like what you see? Visit the ' +\n",
              "            '<a target=\"_blank\" href=https://colab.research.google.com/notebooks/data_table.ipynb>data table notebook</a>'\n",
              "            + ' to learn more about interactive tables.';\n",
              "          element.innerHTML = '';\n",
              "          dataTable['output_type'] = 'display_data';\n",
              "          await google.colab.output.renderOutput(dataTable, element);\n",
              "          const docLink = document.createElement('div');\n",
              "          docLink.innerHTML = docLinkHtml;\n",
              "          element.appendChild(docLink);\n",
              "        }\n",
              "      </script>\n",
              "    </div>\n",
              "  </div>\n",
              "  "
            ]
          },
          "metadata": {},
          "execution_count": 11
        }
      ]
    },
    {
      "cell_type": "markdown",
      "source": [
        "How well does the system perform on grabbing the subject, verbs, and objects?  Where is it failing? How might we improve the model's performance.\n",
        "\n",
        "That's it for this demo.  Again you are encouraged to experiment with this notebook to build intuition about how systems perform on these tasks."
      ],
      "metadata": {
        "id": "tYfTgvbG78Kb"
      }
    },
    {
      "cell_type": "code",
      "source": [
        ""
      ],
      "metadata": {
        "id": "rUwdBJE4xSCr"
      },
      "execution_count": null,
      "outputs": []
    }
  ]
}