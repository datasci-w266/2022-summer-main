{
 "cells": [
  {
   "cell_type": "markdown",
   "metadata": {},
   "source": [
    "# Learning the Keras functional API \n",
    "\n",
    "<a id = 'top'></a>\n",
    "\n",
    "  * A. [Intro to Functional API](#introToFunctionalKeras) \n",
    "  * B. [A word about word embeddings](#wordAboutEmbeddings)\n",
    "  * C. [Description of our dataset](#datasetDescription) \n",
    "  * D. [Let's Build our functional model](#buildModel)\n",
    "  * E. [Let's Train and Evaluate our model](#trainModel)\n",
    "  * F. [Considerations for further exploration](#furtherExploration)"
   ]
  },
  {
   "cell_type": "markdown",
   "metadata": {},
   "source": [
    "<a id = 'introToFunctionalKeras'></a>\n",
    "## A. Intro to Functional API\n",
    "The Keras functional syntax for models is only slightly different from the sequential syntax.  It is an intuitive way to build up model graphs.  In return it offers much greater flexibility, allowing multiple connections from arbitrary layers to other layers.  \n",
    "\n",
    "It is referred to as \"functional\" since you use layers as functions called on input nodes to create output nodes.  A good place to start is the [Keras functional documentation](https://keras.io/guides/functional_api/)\n",
    "\n",
    "Many of the more advanced deep-learning networks you will learn about require layer connections which are not strictly sequential; therefore we will mostly use the functional syntax moving forward.\n",
    "\n",
    "This notebook gives you a sense of how to use the functional syntax to create a network, even though our example model will end up being one where layers are consecutively connected.\n",
    "\n",
    "[Go to Top](#top)"
   ]
  },
  {
   "cell_type": "code",
   "execution_count": 1,
   "metadata": {},
   "outputs": [
    {
     "name": "stdout",
     "output_type": "stream",
     "text": [
      "Collecting gensim==4.0.1\n",
      "  Downloading gensim-4.0.1.tar.gz (23.1 MB)\n",
      "\u001b[2K     \u001b[90m━━━━━━━━━━━━━━━━━━━━━━━━━━━━━━━━━━━━━━━━\u001b[0m \u001b[32m23.1/23.1 MB\u001b[0m \u001b[31m14.2 MB/s\u001b[0m eta \u001b[36m0:00:00\u001b[0m00:01\u001b[0m00:01\u001b[0m\n",
      "\u001b[?25h  Preparing metadata (setup.py) ... \u001b[?25ldone\n",
      "\u001b[?25hRequirement already satisfied: numpy>=1.11.3 in /home/mhbutler/anaconda3/lib/python3.9/site-packages (from gensim==4.0.1) (1.20.3)\n",
      "Requirement already satisfied: scipy>=0.18.1 in /home/mhbutler/anaconda3/lib/python3.9/site-packages (from gensim==4.0.1) (1.7.1)\n",
      "Requirement already satisfied: smart_open>=1.8.1 in /home/mhbutler/anaconda3/lib/python3.9/site-packages (from gensim==4.0.1) (6.0.0)\n",
      "Building wheels for collected packages: gensim\n",
      "  Building wheel for gensim (setup.py) ... \u001b[?25ldone\n",
      "\u001b[?25h  Created wheel for gensim: filename=gensim-4.0.1-cp39-cp39-linux_x86_64.whl size=23895974 sha256=43bcc23651de56c53c304252bd52307ec8b978180989ad5d913a3a6f45d527a6\n",
      "  Stored in directory: /home/mhbutler/.cache/pip/wheels/20/74/75/72ec1172891bdecb4ee73fbc2c71d5a150f165b1d0c2ea04e1\n",
      "Successfully built gensim\n",
      "Installing collected packages: gensim\n",
      "  Attempting uninstall: gensim\n",
      "    Found existing installation: gensim 3.8.3\n",
      "    Uninstalling gensim-3.8.3:\n",
      "      Successfully uninstalled gensim-3.8.3\n",
      "Successfully installed gensim-4.0.1\n"
     ]
    }
   ],
   "source": [
    "#VERY IMPORTANT - the gensim code here requires gensim==4.0.1.\n",
    "#make sure you pip install that version of the code.  This will be updated in the future.\n",
    "!pip install gensim==4.0.1"
   ]
  },
  {
   "cell_type": "code",
   "execution_count": 2,
   "metadata": {},
   "outputs": [
    {
     "name": "stderr",
     "output_type": "stream",
     "text": [
      "/home/mhbutler/anaconda3/lib/python3.9/site-packages/gensim/similarities/__init__.py:15: UserWarning: The gensim.similarities.levenshtein submodule is disabled, because the optional Levenshtein package <https://pypi.org/project/python-Levenshtein/> is unavailable. Install Levenhstein (e.g. `pip install python-Levenshtein`) to suppress this warning.\n",
      "  warnings.warn(msg)\n"
     ]
    }
   ],
   "source": [
    "import nltk\n",
    "from nltk.corpus import reuters\n",
    "from nltk.data import find\n",
    "\n",
    "#VERY IMPORTANT - the gensim code here requires gensim==4.0.1.\n",
    "#make sure you pip install that version of the code.  This will be updated in the future.\n",
    "import gensim\n",
    "\n",
    "import numpy as np"
   ]
  },
  {
   "cell_type": "markdown",
   "metadata": {},
   "source": [
    "<a id = 'wordAboutEmbeddings'></a>\n",
    "## B. A word about word embeddings\n",
    "\n",
    "This example will use pre-trained word embeddings from [nltk / gensim](https://github.com/nltk/nltk/blob/develop/nltk/test/gensim.doctest) \n",
    "\n",
    "You will have more chance to work with embedding vectors in a later homework.  If you haven't been exposed to word embeddings (like \"word2vec\") think of embeddings as a way to represent word meaning in geometric space, allowing us to do things like compare word similarities using vector operations like dot products.  For now, we'll use the word2vec pre-trained model to create an embedding layer for our classifier model.\n",
    "\n",
    "[Go to Top](#top)"
   ]
  },
  {
   "cell_type": "code",
   "execution_count": 3,
   "metadata": {},
   "outputs": [
    {
     "name": "stderr",
     "output_type": "stream",
     "text": [
      "[nltk_data] Downloading package word2vec_sample to\n",
      "[nltk_data]     /home/mhbutler/nltk_data...\n",
      "[nltk_data]   Package word2vec_sample is already up-to-date!\n"
     ]
    },
    {
     "name": "stdout",
     "output_type": "stream",
     "text": [
      "The length of gensim embedding vocabulary : 43981\n",
      "Length d of embedding vectors : 300\n",
      "The shape of our embedding matrix is (43982, 300)\n"
     ]
    }
   ],
   "source": [
    "# Download NLTK's sample word2vec embeddings\n",
    "\n",
    "nltk.download('word2vec_sample')\n",
    "\n",
    "word2vec_sample = str(find('models/word2vec_sample/pruned.word2vec.txt'))\n",
    "\n",
    "embmod = gensim.models.KeyedVectors.load_word2vec_format(word2vec_sample, binary=False)\n",
    "print('The length of gensim embedding vocabulary : {}'.format(len(embmod)))\n",
    "EMBEDDING_DIM = len(embmod['university'])\n",
    "print('Length d of embedding vectors : {}'.format(EMBEDDING_DIM))\n",
    "\n",
    "# initialize embedding matrix and word-to-id map:\n",
    "embedding_matrix = np.zeros((len(embmod) + 1, EMBEDDING_DIM))       \n",
    "vocab_dict = {}\n",
    "\n",
    "# build the embedding matrix and the word-to-id map:\n",
    "for i, word in enumerate(embmod.key_to_index.keys()):\n",
    "    embedding_vector = embmod[word]\n",
    "    if embedding_vector is not None:\n",
    "        # words not found in embedding index will be all-zeros.\n",
    "        embedding_matrix[i] = embedding_vector\n",
    "        vocab_dict[word] = i\n",
    "\n",
    "print('The shape of our embedding matrix is {}'.format(embedding_matrix.shape))"
   ]
  },
  {
   "cell_type": "markdown",
   "metadata": {},
   "source": [
    "<a id = 'datasetDescription'></a>\n",
    "## C. Description of our dataset\n",
    "\n",
    "We will create a classifier model on the [large movie review dataset from Stanford AI Lab](https://ai.stanford.edu/~amaas/data/sentiment/). \n",
    "\n",
    "This dataset was used in the paper:  \n",
    "[Learning Word Vectors for Sentiment Analysis by Andrew L. Maas, Raymond E. Daly, Peter T. Pham, Dan Huang, Andrew Y. Ng, Christopher Potts from the Jun 2011 issue of ACL.](https://www.aclweb.org/anthology/P11-1015.pdf)  \n",
    "\n",
    "The dataset training samples are split between:\n",
    "  * \"negative\" movie reviews, with ratings in the range (1,2,3,4) and \n",
    "  * \"positive reviews in the range of (7,8,9,10).\n",
    " \n",
    "We will re-group the ratings into 2 \"negative\" groups and 2 \"positive\" groups, to make our classification task a bit easier.\n",
    "\n",
    "[Go to Top](#top)"
   ]
  },
  {
   "cell_type": "code",
   "execution_count": 4,
   "metadata": {},
   "outputs": [
    {
     "name": "stdout",
     "output_type": "stream",
     "text": [
      "Finished downloading file\n",
      "Finished untar-ing file\n",
      "Our unique class labels are: [0 1 2 3]\n"
     ]
    }
   ],
   "source": [
    "# Download the dataset\n",
    "import requests\n",
    "url = 'https://ai.stanford.edu/~amaas/data/sentiment/aclImdb_v1.tar.gz'\n",
    "r = requests.get(url, allow_redirects=True)\n",
    "print('Finished downloading file')\n",
    "open('aclImdb_v1.tar.gz', 'wb').write(r.content)\n",
    "\n",
    "# Untar the downloaded file\n",
    "!tar xfz aclImdb_v1.tar.gz\n",
    "print('Finished untar-ing file')\n",
    "\n",
    "input_length = 100\n",
    "import os\n",
    "import re\n",
    "pos_directory = \"./aclImdb/train/pos/\"\n",
    "neg_directory = \"./aclImdb/train/neg/\"\n",
    "\n",
    "# The original labels are negative in [1,2,3,4] and 'positive in [7,8,9,10]'\n",
    "# To simplify our classification let's reduce the number of classes by remapping ratings:\n",
    "#     Map labels to new labels\n",
    "#      1, 2  map to 0\n",
    "#      3, 4 map to 1\n",
    "#      7, 8  map to 2\n",
    "#      9, 10 map to 3\n",
    "maplabels = {\"1\" : 0, \"2\" : 0, \n",
    "             \"3\" : 1, \"4\" : 1,\n",
    "             \"7\" : 2, \"8\" : 2,\n",
    "             \"9\" : 3, \"10\" : 3}\n",
    "\n",
    "# Create pos and neg training samples by tokenizing the first 100 words from each review\n",
    "pos_samples = []\n",
    "pos_labels = []\n",
    "\n",
    "pat = re.compile('\\d+_(\\d+).txt')\n",
    "for file in os.listdir(pos_directory):\n",
    "    with open(pos_directory + file, 'r') as fh:\n",
    "        review = fh.readline().split()\n",
    "        if len(review) < input_length:\n",
    "            whole = int(input_length / len(review) )\n",
    "            leftover = len(review) % input_length\n",
    "            review = review * whole + review[:leftover]\n",
    "        tokens = [vocab_dict.get(word, 43981) for word in review[:input_length]] # only take the first input_length words\n",
    "        pos_samples.append(tokens)\n",
    "        label = pat.sub(r'\\1', file) # Extract label from filename\n",
    "        pos_labels.append(maplabels[label])\n",
    "        \n",
    "neg_samples = []\n",
    "neg_labels = []\n",
    "for file in os.listdir(neg_directory):\n",
    "    with open(neg_directory + file, 'r') as fh:\n",
    "        review = fh.readline().split()\n",
    "        if len(review) < input_length:\n",
    "            whole = int(input_length / len(review) )\n",
    "            leftover = len(review) % input_length\n",
    "            review = review * whole + review[:leftover]\n",
    "        tokens = [vocab_dict.get(word, 43981) for word in review[:input_length]]\n",
    "        neg_samples.append(tokens)\n",
    "        label = pat.sub(r'\\1', file) # Extract label from filename\n",
    "        neg_labels.append(maplabels[label])\n",
    "        \n",
    "# Create x samples and labels\n",
    "from sklearn.model_selection import train_test_split\n",
    "\n",
    "xsamples = pos_samples + neg_samples # combine lists\n",
    "# labels = [1] * len(pos_samples) + [0] * len(neg_samples)\n",
    "labels = pos_labels + neg_labels\n",
    "\n",
    "# Repackage as numpy arrays\n",
    "xsamples = np.array(xsamples)\n",
    "labels = np.array(labels).reshape([-1,1]) # Labels must have at least one column\n",
    "\n",
    "# Create training, eval split\n",
    "train_input, test_input, train_labels, test_labels = train_test_split(xsamples, labels, test_size = 0.2, \n",
    "                                                         random_state = 41,\n",
    "                                                         shuffle = True)\n",
    "\n",
    "# Investigate the unique class \"levels\"\n",
    "print('Our unique class labels are: {}'.format(np.unique(labels)))\n"
   ]
  },
  {
   "cell_type": "code",
   "execution_count": 5,
   "metadata": {},
   "outputs": [
    {
     "data": {
      "text/plain": [
       "array([12139, 27101, 14193,  2700, 12139,  7841,  1331, 14193, 43981,\n",
       "       43981, 33741,  3175, 27692, 22793, 42591,  2326, 12917, 43981,\n",
       "        4724, 19334, 43981, 40307, 16030, 42958, 17489, 43981, 43981,\n",
       "       43981, 20526, 22793, 32492, 16915,  3162, 43981, 12917, 43981,\n",
       "       12292, 34315, 20526, 43981, 38177, 43981, 43981, 25268, 43981,\n",
       "         333, 12139, 22332, 43981,  8092, 43981, 29538, 42382, 15402,\n",
       "       31109, 43981, 19123, 23498, 31405, 39566, 43981, 32467,  7046,\n",
       "       34511,  9722, 15656, 43981, 43981, 43981,  2731, 18232, 40913,\n",
       "       43981, 43981, 37939, 12917,  4881, 16915, 43981, 19123, 10616,\n",
       "       16908,  5457,  3824, 43981, 40859, 16915, 14193, 17050, 43981,\n",
       "       42934, 38725, 43981, 17129, 43981, 34365, 43981,  1959, 36633,\n",
       "        1100])"
      ]
     },
     "execution_count": 5,
     "metadata": {},
     "output_type": "execute_result"
    }
   ],
   "source": [
    "train_input[0]"
   ]
  },
  {
   "cell_type": "code",
   "execution_count": 6,
   "metadata": {},
   "outputs": [
    {
     "name": "stdout",
     "output_type": "stream",
     "text": [
      "Number of training samples = 20000\n",
      "class 0 has 5899 samples (29.49%)\n",
      "class 1 has 4095 samples (20.47%)\n",
      "class 2 has 4382 samples (21.91%)\n",
      "class 3 has 5624 samples (28.12%)\n",
      "\n",
      "Number of test samples = 5000\n",
      "class 0 has 1485 samples (29.70%)\n",
      "class 1 has 1021 samples (20.42%)\n",
      "class 2 has 1123 samples (22.46%)\n",
      "class 3 has 1371 samples (27.42%)\n"
     ]
    }
   ],
   "source": [
    "# Let's look for possible class imbalance\n",
    "ltrain = len(train_labels)\n",
    "print('Number of training samples = {}'.format(ltrain))\n",
    "for i in range(4):\n",
    "    nclass = len(np.where(train_labels.reshape([-1]) == i)[0])\n",
    "    print('class ' + str(i) + ' has {} samples ({:.2f}%)'.format(nclass, 100 * float(nclass / ltrain )))\n",
    "\n",
    "print()\n",
    "ltest = len(test_labels)\n",
    "print('Number of test samples = {}'.format(ltest))\n",
    "for i in range(4):\n",
    "    nclass = len(np.where(test_labels.reshape([-1]) == i)[0])\n",
    "    print('class ' + str(i) + ' has {} samples ({:.2f}%)'.format(nclass, 100 * float(nclass / ltest )))"
   ]
  },
  {
   "cell_type": "markdown",
   "metadata": {},
   "source": [
    "<a id = 'buildModel'></a>\n",
    "## D. Let's build our functional model\n",
    "Building up a graph involves using layers as functions and calling those functions on input tensors to create output tensors, which then can be used to feed other layers.\n",
    "\n",
    "For example, you can create an input and output connection using a dense layer by doing the following:\n",
    "\n",
    "  * x = Dense(50, activation='relu')(x)\n",
    "\n",
    "or by declaring the layer separately and calling that layer as a function with input, x:\n",
    "\n",
    "  * dlayer = Dense(50, activation='relu')  \n",
    "  * x = dlayer(x)\n",
    "\n",
    "In the second representation, you can see that layer instances resemble functions called on graph nodes."
   ]
  },
  {
   "cell_type": "code",
   "execution_count": 7,
   "metadata": {},
   "outputs": [],
   "source": [
    "import tensorflow as tf\n",
    "from tensorflow.keras.layers import Embedding, Input, Dense, Lambda\n",
    "from tensorflow.keras.models import Model\n",
    "import tensorflow.keras.backend as K\n",
    "\n",
    "#  Package our word2vec embedding model as a fixed pre-trained embedding.\n",
    "#  Note we set the argument \"trainable\" to False as we don't want to modify our pre-trained\n",
    "#  ...embedding values during model training.\n",
    "\n",
    "embedding_layer = Embedding(embedding_matrix.shape[0],\n",
    "                            embedding_matrix.shape[1],\n",
    "                            embeddings_initializer=tf.keras.initializers.Constant(embedding_matrix),\n",
    "                            # input_length=input_length,\n",
    "                            trainable=False)\n",
    "\n",
    "# Note that \"trainable\" is set to False, since we want our classifier model to leave embedding vectors alone during training."
   ]
  },
  {
   "cell_type": "markdown",
   "metadata": {},
   "source": [
    "Now that we've created our first embedding layer, let's build the model adding other layers using the **Functional API**: "
   ]
  },
  {
   "cell_type": "code",
   "execution_count": 8,
   "metadata": {},
   "outputs": [
    {
     "name": "stderr",
     "output_type": "stream",
     "text": [
      "2022-05-09 22:08:43.059332: I tensorflow/core/platform/cpu_feature_guard.cc:151] This TensorFlow binary is optimized with oneAPI Deep Neural Network Library (oneDNN) to use the following CPU instructions in performance-critical operations:  AVX2 FMA\n",
      "To enable them in other operations, rebuild TensorFlow with the appropriate compiler flags.\n"
     ]
    }
   ],
   "source": [
    "# Choose a word length to truncate each movie review\n",
    "input_length = 100\n",
    "\n",
    "# Define an input using our input fixed number of words per review sample\n",
    "input_x = Input(shape = (input_length,), name=\"input_words\")\n",
    "\n",
    "# Apply embeddings to each word input\n",
    "x1 = embedding_layer(input_x) \n",
    "\n",
    "# Use Keras lambda function layer to take the mean of the 100 word vectors\n",
    "x2 = tf.keras.layers.Lambda(lambda x: K.mean(x, axis=1))(x1)    # average of embedding vectors\n",
    "\n",
    "# Continue building the network graph                                \n",
    "x3 = Dense(50, activation='relu', name=\"hidden1\")(x2)   # hidden layer\n",
    "x4 = Dense(20, activation='relu', name=\"hidden2\")(x3)   # hidden layer\n",
    "\n",
    "# Our final output classifier layer.  It has 4 outputs (one for each class)\n",
    "# Because this is a multi-class output we'll use softmax as an activation.\n",
    "# We want the predictor outputs to always sum to 1 to represent probability.\n",
    "yhat = Dense(4, activation='softmax', name=\"output\")(x4)   # classification layer\n",
    "\n",
    "# Define the model\n",
    "model = Model(inputs=input_x, outputs=yhat, name=\"keras_func_model\")\n",
    "\n",
    "# Compile the model\n",
    "model.compile(optimizer='adam', \n",
    "              loss='sparse_categorical_crossentropy', \n",
    "              metrics = ['sparse_categorical_accuracy'])"
   ]
  },
  {
   "cell_type": "markdown",
   "metadata": {},
   "source": [
    "**Review the output layers, output dimensions, number of weights**"
   ]
  },
  {
   "cell_type": "markdown",
   "metadata": {},
   "source": [
    "Let's see whether our dimension discussion was correct. Print a model summary:"
   ]
  },
  {
   "cell_type": "code",
   "execution_count": 9,
   "metadata": {},
   "outputs": [
    {
     "name": "stdout",
     "output_type": "stream",
     "text": [
      "Model: \"keras_func_model\"\n",
      "_________________________________________________________________\n",
      " Layer (type)                Output Shape              Param #   \n",
      "=================================================================\n",
      " input_words (InputLayer)    [(None, 100)]             0         \n",
      "                                                                 \n",
      " embedding (Embedding)       (None, 100, 300)          13194600  \n",
      "                                                                 \n",
      " lambda (Lambda)             (None, 300)               0         \n",
      "                                                                 \n",
      " hidden1 (Dense)             (None, 50)                15050     \n",
      "                                                                 \n",
      " hidden2 (Dense)             (None, 20)                1020      \n",
      "                                                                 \n",
      " output (Dense)              (None, 4)                 84        \n",
      "                                                                 \n",
      "=================================================================\n",
      "Total params: 13,210,754\n",
      "Trainable params: 16,154\n",
      "Non-trainable params: 13,194,600\n",
      "_________________________________________________________________\n"
     ]
    }
   ],
   "source": [
    "model.summary()"
   ]
  },
  {
   "cell_type": "markdown",
   "metadata": {},
   "source": [
    "<a id = 'trainModel'></a>\n",
    "## E. Let's Train and Evaluate our model\n",
    "\n",
    "[Return to Top](#top)"
   ]
  },
  {
   "cell_type": "code",
   "execution_count": 10,
   "metadata": {},
   "outputs": [
    {
     "name": "stdout",
     "output_type": "stream",
     "text": [
      "Epoch 1/50\n",
      "40/40 [==============================] - 4s 93ms/step - loss: 1.3740 - sparse_categorical_accuracy: 0.2959 - val_loss: 1.3649 - val_sparse_categorical_accuracy: 0.3235\n",
      "Epoch 2/50\n",
      "40/40 [==============================] - 3s 76ms/step - loss: 1.3528 - sparse_categorical_accuracy: 0.3717 - val_loss: 1.3392 - val_sparse_categorical_accuracy: 0.3907\n",
      "Epoch 3/50\n",
      "40/40 [==============================] - 4s 99ms/step - loss: 1.3197 - sparse_categorical_accuracy: 0.4047 - val_loss: 1.3011 - val_sparse_categorical_accuracy: 0.4080\n",
      "Epoch 4/50\n",
      "40/40 [==============================] - 4s 94ms/step - loss: 1.2752 - sparse_categorical_accuracy: 0.4285 - val_loss: 1.2536 - val_sparse_categorical_accuracy: 0.4300\n",
      "Epoch 5/50\n",
      "40/40 [==============================] - 4s 92ms/step - loss: 1.2310 - sparse_categorical_accuracy: 0.4442 - val_loss: 1.2151 - val_sparse_categorical_accuracy: 0.4430\n",
      "Epoch 6/50\n",
      "40/40 [==============================] - 3s 88ms/step - loss: 1.1973 - sparse_categorical_accuracy: 0.4532 - val_loss: 1.1907 - val_sparse_categorical_accuracy: 0.4500\n",
      "Epoch 7/50\n",
      "40/40 [==============================] - 3s 80ms/step - loss: 1.1727 - sparse_categorical_accuracy: 0.4622 - val_loss: 1.1723 - val_sparse_categorical_accuracy: 0.4518\n",
      "Epoch 8/50\n",
      "40/40 [==============================] - 3s 85ms/step - loss: 1.1615 - sparse_categorical_accuracy: 0.4681 - val_loss: 1.1606 - val_sparse_categorical_accuracy: 0.4585\n",
      "Epoch 9/50\n",
      "40/40 [==============================] - 3s 84ms/step - loss: 1.1462 - sparse_categorical_accuracy: 0.4769 - val_loss: 1.1520 - val_sparse_categorical_accuracy: 0.4728\n",
      "Epoch 10/50\n",
      "40/40 [==============================] - 3s 76ms/step - loss: 1.1384 - sparse_categorical_accuracy: 0.4834 - val_loss: 1.1500 - val_sparse_categorical_accuracy: 0.4710\n",
      "Epoch 11/50\n",
      "40/40 [==============================] - 4s 89ms/step - loss: 1.1309 - sparse_categorical_accuracy: 0.4906 - val_loss: 1.1377 - val_sparse_categorical_accuracy: 0.4782\n",
      "Epoch 12/50\n",
      "40/40 [==============================] - 3s 87ms/step - loss: 1.1231 - sparse_categorical_accuracy: 0.4920 - val_loss: 1.1332 - val_sparse_categorical_accuracy: 0.4835\n",
      "Epoch 13/50\n",
      "40/40 [==============================] - 3s 87ms/step - loss: 1.1161 - sparse_categorical_accuracy: 0.5000 - val_loss: 1.1259 - val_sparse_categorical_accuracy: 0.4868\n",
      "Epoch 14/50\n",
      "40/40 [==============================] - 4s 101ms/step - loss: 1.1113 - sparse_categorical_accuracy: 0.4997 - val_loss: 1.1211 - val_sparse_categorical_accuracy: 0.4978\n",
      "Epoch 15/50\n",
      "40/40 [==============================] - 4s 90ms/step - loss: 1.1065 - sparse_categorical_accuracy: 0.5061 - val_loss: 1.1253 - val_sparse_categorical_accuracy: 0.4885\n",
      "Epoch 16/50\n",
      "40/40 [==============================] - 3s 84ms/step - loss: 1.0987 - sparse_categorical_accuracy: 0.5104 - val_loss: 1.1139 - val_sparse_categorical_accuracy: 0.5042\n",
      "Epoch 17/50\n",
      "40/40 [==============================] - 4s 101ms/step - loss: 1.0970 - sparse_categorical_accuracy: 0.5096 - val_loss: 1.1132 - val_sparse_categorical_accuracy: 0.4945\n",
      "Epoch 18/50\n",
      "40/40 [==============================] - 4s 92ms/step - loss: 1.0921 - sparse_categorical_accuracy: 0.5129 - val_loss: 1.1039 - val_sparse_categorical_accuracy: 0.5055\n",
      "Epoch 19/50\n",
      "40/40 [==============================] - 3s 77ms/step - loss: 1.0916 - sparse_categorical_accuracy: 0.5133 - val_loss: 1.1032 - val_sparse_categorical_accuracy: 0.5060\n",
      "Epoch 20/50\n",
      "40/40 [==============================] - 4s 93ms/step - loss: 1.0855 - sparse_categorical_accuracy: 0.5135 - val_loss: 1.1003 - val_sparse_categorical_accuracy: 0.5073\n",
      "Epoch 21/50\n",
      "40/40 [==============================] - 4s 90ms/step - loss: 1.0811 - sparse_categorical_accuracy: 0.5173 - val_loss: 1.1027 - val_sparse_categorical_accuracy: 0.5105\n",
      "Epoch 22/50\n",
      "40/40 [==============================] - 4s 104ms/step - loss: 1.0794 - sparse_categorical_accuracy: 0.5188 - val_loss: 1.0942 - val_sparse_categorical_accuracy: 0.5102\n",
      "Epoch 23/50\n",
      "40/40 [==============================] - 4s 97ms/step - loss: 1.0779 - sparse_categorical_accuracy: 0.5196 - val_loss: 1.0931 - val_sparse_categorical_accuracy: 0.5155\n",
      "Epoch 24/50\n",
      "40/40 [==============================] - 3s 80ms/step - loss: 1.0763 - sparse_categorical_accuracy: 0.5196 - val_loss: 1.0960 - val_sparse_categorical_accuracy: 0.5065\n",
      "Epoch 25/50\n",
      "40/40 [==============================] - 3s 85ms/step - loss: 1.0736 - sparse_categorical_accuracy: 0.5214 - val_loss: 1.0921 - val_sparse_categorical_accuracy: 0.5088\n",
      "Epoch 26/50\n",
      "40/40 [==============================] - 3s 77ms/step - loss: 1.0720 - sparse_categorical_accuracy: 0.5237 - val_loss: 1.0889 - val_sparse_categorical_accuracy: 0.5113\n",
      "Epoch 27/50\n",
      "40/40 [==============================] - 3s 84ms/step - loss: 1.0699 - sparse_categorical_accuracy: 0.5231 - val_loss: 1.0873 - val_sparse_categorical_accuracy: 0.5142\n",
      "Epoch 28/50\n",
      "40/40 [==============================] - 3s 76ms/step - loss: 1.0674 - sparse_categorical_accuracy: 0.5257 - val_loss: 1.0873 - val_sparse_categorical_accuracy: 0.5153\n",
      "Epoch 29/50\n",
      "40/40 [==============================] - 3s 76ms/step - loss: 1.0689 - sparse_categorical_accuracy: 0.5281 - val_loss: 1.0916 - val_sparse_categorical_accuracy: 0.5045\n",
      "Epoch 30/50\n",
      "40/40 [==============================] - 4s 93ms/step - loss: 1.0653 - sparse_categorical_accuracy: 0.5281 - val_loss: 1.0848 - val_sparse_categorical_accuracy: 0.5125\n",
      "Epoch 31/50\n",
      "40/40 [==============================] - 4s 96ms/step - loss: 1.0634 - sparse_categorical_accuracy: 0.5281 - val_loss: 1.0885 - val_sparse_categorical_accuracy: 0.5092\n",
      "Epoch 32/50\n",
      "40/40 [==============================] - 4s 89ms/step - loss: 1.0671 - sparse_categorical_accuracy: 0.5240 - val_loss: 1.0876 - val_sparse_categorical_accuracy: 0.5123\n",
      "Epoch 33/50\n",
      "40/40 [==============================] - 3s 87ms/step - loss: 1.0664 - sparse_categorical_accuracy: 0.5259 - val_loss: 1.0949 - val_sparse_categorical_accuracy: 0.5045\n",
      "Epoch 34/50\n",
      "40/40 [==============================] - 4s 98ms/step - loss: 1.0632 - sparse_categorical_accuracy: 0.5277 - val_loss: 1.0818 - val_sparse_categorical_accuracy: 0.5180\n",
      "Epoch 35/50\n",
      "40/40 [==============================] - 3s 84ms/step - loss: 1.0642 - sparse_categorical_accuracy: 0.5269 - val_loss: 1.0938 - val_sparse_categorical_accuracy: 0.5160\n",
      "Epoch 36/50\n",
      "40/40 [==============================] - 3s 85ms/step - loss: 1.0596 - sparse_categorical_accuracy: 0.5294 - val_loss: 1.0813 - val_sparse_categorical_accuracy: 0.5170\n",
      "Epoch 37/50\n",
      "40/40 [==============================] - 3s 76ms/step - loss: 1.0567 - sparse_categorical_accuracy: 0.5306 - val_loss: 1.0827 - val_sparse_categorical_accuracy: 0.5153\n",
      "Epoch 38/50\n",
      "40/40 [==============================] - 3s 82ms/step - loss: 1.0567 - sparse_categorical_accuracy: 0.5319 - val_loss: 1.0800 - val_sparse_categorical_accuracy: 0.5170\n",
      "Epoch 39/50\n",
      "40/40 [==============================] - 4s 95ms/step - loss: 1.0555 - sparse_categorical_accuracy: 0.5311 - val_loss: 1.0804 - val_sparse_categorical_accuracy: 0.5178\n",
      "Epoch 40/50\n",
      "40/40 [==============================] - 3s 84ms/step - loss: 1.0548 - sparse_categorical_accuracy: 0.5321 - val_loss: 1.0794 - val_sparse_categorical_accuracy: 0.5178\n",
      "Epoch 41/50\n",
      "40/40 [==============================] - 3s 84ms/step - loss: 1.0537 - sparse_categorical_accuracy: 0.5310 - val_loss: 1.0793 - val_sparse_categorical_accuracy: 0.5192\n",
      "Epoch 42/50\n",
      "40/40 [==============================] - 3s 84ms/step - loss: 1.0531 - sparse_categorical_accuracy: 0.5332 - val_loss: 1.0803 - val_sparse_categorical_accuracy: 0.5165\n",
      "Epoch 43/50\n",
      "40/40 [==============================] - 3s 84ms/step - loss: 1.0529 - sparse_categorical_accuracy: 0.5323 - val_loss: 1.0801 - val_sparse_categorical_accuracy: 0.5182\n",
      "Epoch 44/50\n",
      "40/40 [==============================] - 3s 85ms/step - loss: 1.0520 - sparse_categorical_accuracy: 0.5332 - val_loss: 1.0805 - val_sparse_categorical_accuracy: 0.5185\n",
      "Epoch 45/50\n",
      "40/40 [==============================] - 3s 84ms/step - loss: 1.0519 - sparse_categorical_accuracy: 0.5318 - val_loss: 1.0776 - val_sparse_categorical_accuracy: 0.5205\n",
      "Epoch 46/50\n"
     ]
    },
    {
     "name": "stdout",
     "output_type": "stream",
     "text": [
      "40/40 [==============================] - 3s 76ms/step - loss: 1.0521 - sparse_categorical_accuracy: 0.5337 - val_loss: 1.0781 - val_sparse_categorical_accuracy: 0.5192\n",
      "Epoch 47/50\n",
      "40/40 [==============================] - 3s 77ms/step - loss: 1.0495 - sparse_categorical_accuracy: 0.5356 - val_loss: 1.0827 - val_sparse_categorical_accuracy: 0.5160\n",
      "Epoch 48/50\n",
      "40/40 [==============================] - 4s 99ms/step - loss: 1.0491 - sparse_categorical_accuracy: 0.5359 - val_loss: 1.0834 - val_sparse_categorical_accuracy: 0.5167\n",
      "Epoch 49/50\n",
      "40/40 [==============================] - 4s 99ms/step - loss: 1.0483 - sparse_categorical_accuracy: 0.5352 - val_loss: 1.0771 - val_sparse_categorical_accuracy: 0.5192\n",
      "Epoch 50/50\n",
      "40/40 [==============================] - 3s 87ms/step - loss: 1.0470 - sparse_categorical_accuracy: 0.5367 - val_loss: 1.0786 - val_sparse_categorical_accuracy: 0.5232\n"
     ]
    }
   ],
   "source": [
    "# Train the model\n",
    "history = model.fit(train_input, train_labels, batch_size = 400, validation_split=0.2, epochs = 50)"
   ]
  },
  {
   "cell_type": "code",
   "execution_count": 11,
   "metadata": {},
   "outputs": [
    {
     "name": "stdout",
     "output_type": "stream",
     "text": [
      "dict_keys(['loss', 'sparse_categorical_accuracy', 'val_loss', 'val_sparse_categorical_accuracy'])\n"
     ]
    },
    {
     "data": {
      "image/png": "[encoded data removed]",
      "text/plain": [
       "<Figure size 432x288 with 1 Axes>"
      ]
     },
     "metadata": {
      "needs_background": "light"
     },
     "output_type": "display_data"
    },
    {
     "data": {
      "image/png": "[encoded data removed]",
      "text/plain": [
       "<Figure size 432x288 with 1 Axes>"
      ]
     },
     "metadata": {
      "needs_background": "light"
     },
     "output_type": "display_data"
    }
   ],
   "source": [
    "# Plot accuracy and loss for training / validation samples\n",
    "import matplotlib.pyplot as plt\n",
    "print(history.history.keys())\n",
    "# summarize history for accuracy\n",
    "plt.plot(history.history['sparse_categorical_accuracy'])\n",
    "plt.plot(history.history['val_sparse_categorical_accuracy'])\n",
    "plt.title('model accuracy')\n",
    "plt.ylabel('sparse_categorical_accuracy')\n",
    "plt.xlabel('epoch')\n",
    "plt.legend(['train', 'validation'], loc='upper left')\n",
    "plt.show()\n",
    "# summarize history for loss\n",
    "plt.plot(history.history['loss'])\n",
    "plt.plot(history.history['val_loss'])\n",
    "plt.title('model loss')\n",
    "plt.ylabel('loss')\n",
    "plt.xlabel('epoch')\n",
    "plt.legend(['train', 'test'], loc='upper left')\n",
    "plt.show()"
   ]
  },
  {
   "cell_type": "markdown",
   "metadata": {},
   "source": [
    "<a id = 'furtherExploration'></a>\n",
    "## F. Some considerations for further exploration are:\n",
    "1. What evidence do you see that the above model might be over-fitting?\n",
    "\n",
    "2. Might BOW have some basic limitations for classification accuracy?  You'll explore this more in a homework on a BOW classifier.\n",
    "\n",
    "3. How might class imbalance impact possible accuracy / bias a model in a particular way to impact accuracy?  How could this be overcome?\n",
    "\n",
    "4. We are sparse_crossentropy_loss as loss function.  This might not be the optimal loss function.  Can you think of why?"
   ]
  },
  {
   "cell_type": "code",
   "execution_count": null,
   "metadata": {},
   "outputs": [],
   "source": []
  }
 ],
 "metadata": {
  "kernelspec": {
   "display_name": "Python 3 (ipykernel)",
   "language": "python",
   "name": "python3"
  },
  "language_info": {
   "codemirror_mode": {
    "name": "ipython",
    "version": 3
   },
   "file_extension": ".py",
   "mimetype": "text/x-python",
   "name": "python",
   "nbconvert_exporter": "python",
   "pygments_lexer": "ipython3",
   "version": "3.9.7"
  }
 },
 "nbformat": 4,
 "nbformat_minor": 4
}
